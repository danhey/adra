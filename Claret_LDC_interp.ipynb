{
 "cells": [
  {
   "cell_type": "code",
   "execution_count": 88,
   "metadata": {},
   "outputs": [
    {
     "data": {
      "text/html": [
       "<div>\n",
       "<style scoped>\n",
       "    .dataframe tbody tr th:only-of-type {\n",
       "        vertical-align: middle;\n",
       "    }\n",
       "\n",
       "    .dataframe tbody tr th {\n",
       "        vertical-align: top;\n",
       "    }\n",
       "\n",
       "    .dataframe thead th {\n",
       "        text-align: right;\n",
       "    }\n",
       "</style>\n",
       "<table border=\"1\" class=\"dataframe\">\n",
       "  <thead>\n",
       "    <tr style=\"text-align: right;\">\n",
       "      <th></th>\n",
       "      <th>logg</th>\n",
       "      <th>Teff</th>\n",
       "      <th>Z</th>\n",
       "      <th>L/HP</th>\n",
       "      <th>a</th>\n",
       "      <th>b</th>\n",
       "      <th>mu</th>\n",
       "      <th>chi2</th>\n",
       "      <th>Mod</th>\n",
       "      <th>Sys</th>\n",
       "    </tr>\n",
       "  </thead>\n",
       "  <tbody>\n",
       "    <tr>\n",
       "      <th>598</th>\n",
       "      <td>2.5</td>\n",
       "      <td>10000</td>\n",
       "      <td>0.0</td>\n",
       "      <td>2.0</td>\n",
       "      <td>0.1649</td>\n",
       "      <td>0.4119</td>\n",
       "      <td>0.2568</td>\n",
       "      <td>0.1165</td>\n",
       "      <td>PC</td>\n",
       "      <td>TESS</td>\n",
       "    </tr>\n",
       "    <tr>\n",
       "      <th>599</th>\n",
       "      <td>3.0</td>\n",
       "      <td>10000</td>\n",
       "      <td>0.0</td>\n",
       "      <td>2.0</td>\n",
       "      <td>0.1634</td>\n",
       "      <td>0.3271</td>\n",
       "      <td>0.1921</td>\n",
       "      <td>0.1077</td>\n",
       "      <td>PC</td>\n",
       "      <td>TESS</td>\n",
       "    </tr>\n",
       "    <tr>\n",
       "      <th>600</th>\n",
       "      <td>3.5</td>\n",
       "      <td>10000</td>\n",
       "      <td>0.0</td>\n",
       "      <td>2.0</td>\n",
       "      <td>0.1657</td>\n",
       "      <td>0.2765</td>\n",
       "      <td>0.1531</td>\n",
       "      <td>0.0944</td>\n",
       "      <td>PC</td>\n",
       "      <td>TESS</td>\n",
       "    </tr>\n",
       "    <tr>\n",
       "      <th>601</th>\n",
       "      <td>4.0</td>\n",
       "      <td>10000</td>\n",
       "      <td>0.0</td>\n",
       "      <td>2.0</td>\n",
       "      <td>0.1649</td>\n",
       "      <td>0.2456</td>\n",
       "      <td>0.1162</td>\n",
       "      <td>0.0879</td>\n",
       "      <td>PC</td>\n",
       "      <td>TESS</td>\n",
       "    </tr>\n",
       "    <tr>\n",
       "      <th>602</th>\n",
       "      <td>4.5</td>\n",
       "      <td>10000</td>\n",
       "      <td>0.0</td>\n",
       "      <td>2.0</td>\n",
       "      <td>0.1619</td>\n",
       "      <td>0.2300</td>\n",
       "      <td>0.0914</td>\n",
       "      <td>0.0845</td>\n",
       "      <td>PC</td>\n",
       "      <td>TESS</td>\n",
       "    </tr>\n",
       "    <tr>\n",
       "      <th>603</th>\n",
       "      <td>5.0</td>\n",
       "      <td>10000</td>\n",
       "      <td>0.0</td>\n",
       "      <td>2.0</td>\n",
       "      <td>0.1581</td>\n",
       "      <td>0.2206</td>\n",
       "      <td>0.0677</td>\n",
       "      <td>0.0829</td>\n",
       "      <td>PC</td>\n",
       "      <td>TESS</td>\n",
       "    </tr>\n",
       "    <tr>\n",
       "      <th>604</th>\n",
       "      <td>5.5</td>\n",
       "      <td>10000</td>\n",
       "      <td>0.0</td>\n",
       "      <td>2.0</td>\n",
       "      <td>0.1556</td>\n",
       "      <td>0.2167</td>\n",
       "      <td>0.0496</td>\n",
       "      <td>0.0828</td>\n",
       "      <td>PC</td>\n",
       "      <td>TESS</td>\n",
       "    </tr>\n",
       "    <tr>\n",
       "      <th>605</th>\n",
       "      <td>6.0</td>\n",
       "      <td>10000</td>\n",
       "      <td>0.0</td>\n",
       "      <td>2.0</td>\n",
       "      <td>0.1578</td>\n",
       "      <td>0.2153</td>\n",
       "      <td>0.0364</td>\n",
       "      <td>0.0850</td>\n",
       "      <td>PC</td>\n",
       "      <td>TESS</td>\n",
       "    </tr>\n",
       "  </tbody>\n",
       "</table>\n",
       "</div>"
      ],
      "text/plain": [
       "     logg   Teff    Z  L/HP       a       b      mu    chi2 Mod   Sys\n",
       "598   2.5  10000  0.0   2.0  0.1649  0.4119  0.2568  0.1165  PC  TESS\n",
       "599   3.0  10000  0.0   2.0  0.1634  0.3271  0.1921  0.1077  PC  TESS\n",
       "600   3.5  10000  0.0   2.0  0.1657  0.2765  0.1531  0.0944  PC  TESS\n",
       "601   4.0  10000  0.0   2.0  0.1649  0.2456  0.1162  0.0879  PC  TESS\n",
       "602   4.5  10000  0.0   2.0  0.1619  0.2300  0.0914  0.0845  PC  TESS\n",
       "603   5.0  10000  0.0   2.0  0.1581  0.2206  0.0677  0.0829  PC  TESS\n",
       "604   5.5  10000  0.0   2.0  0.1556  0.2167  0.0496  0.0828  PC  TESS\n",
       "605   6.0  10000  0.0   2.0  0.1578  0.2153  0.0364  0.0850  PC  TESS"
      ]
     },
     "execution_count": 88,
     "metadata": {},
     "output_type": "execute_result"
    }
   ],
   "source": [
    "import pandas as pd\n",
    "from scipy.interpolate import RegularGridInterpolator\n",
    "import matplotlib.pyplot as plt\n",
    "\n",
    "df = pd.read_csv('claret_ldc.tsv', skiprows=49, delimiter='\\t', header=None, names=['logg','Teff','Z','L/HP','a','b','mu','chi2','Mod','Sys'])\n",
    "df[df['Teff'] == 10000]"
   ]
  },
  {
   "cell_type": "code",
   "execution_count": 89,
   "metadata": {},
   "outputs": [],
   "source": [
    "points = df[['Teff', 'logg']].to_numpy()\n",
    "values = df[['a', 'b']].to_numpy()"
   ]
  },
  {
   "cell_type": "code",
   "execution_count": 90,
   "metadata": {},
   "outputs": [
    {
     "data": {
      "text/plain": [
       "array([0.16305, 0.28015])"
      ]
     },
     "execution_count": 90,
     "metadata": {},
     "output_type": "execute_result"
    }
   ],
   "source": [
    "from scipy.interpolate import griddata\n",
    "griddata(points, values, (10100, 3.5), method='linear')"
   ]
  },
  {
   "cell_type": "code",
   "execution_count": null,
   "metadata": {},
   "outputs": [],
   "source": []
  },
  {
   "cell_type": "code",
   "execution_count": null,
   "metadata": {},
   "outputs": [],
   "source": []
  },
  {
   "cell_type": "code",
   "execution_count": 74,
   "metadata": {},
   "outputs": [
    {
     "name": "stdout",
     "output_type": "stream",
     "text": [
      "5.59 ms ± 54.7 µs per loop (mean ± std. dev. of 7 runs, 100 loops each)\n"
     ]
    }
   ],
   "source": [
    "grid_z0 = griddata(points, values, (10000, 3.3), method='linear')"
   ]
  },
  {
   "cell_type": "code",
   "execution_count": 93,
   "metadata": {},
   "outputs": [
    {
     "data": {
      "text/plain": [
       "<matplotlib.colorbar.Colorbar at 0x7fcf4780d7f0>"
      ]
     },
     "execution_count": 93,
     "metadata": {},
     "output_type": "execute_result"
    },
    {
     "data": {
      "image/png": "[encoded data removed]",
      "text/plain": [
       "<Figure size 432x288 with 2 Axes>"
      ]
     },
     "metadata": {
      "needs_background": "light"
     },
     "output_type": "display_data"
    }
   ],
   "source": [
    "plt.contourf(X, Y, grid_z0[:,:,0]-grid_z0[:,:,1])\n",
    "plt.colorbar()"
   ]
  },
  {
   "cell_type": "code",
   "execution_count": 33,
   "metadata": {},
   "outputs": [],
   "source": []
  },
  {
   "cell_type": "code",
   "execution_count": 34,
   "metadata": {},
   "outputs": [
    {
     "data": {
      "text/plain": [
       "1.2909"
      ]
     },
     "execution_count": 34,
     "metadata": {},
     "output_type": "execute_result"
    }
   ],
   "source": [
    "grid_z0"
   ]
  },
  {
   "cell_type": "code",
   "execution_count": 5,
   "metadata": {},
   "outputs": [],
   "source": [
    "def func(x, y):\n",
    "    return x*(1-x)*np.cos(4*np.pi*x) * np.sin(4*np.pi*y**2)**2"
   ]
  },
  {
   "cell_type": "code",
   "execution_count": 6,
   "metadata": {},
   "outputs": [],
   "source": [
    "grid_x, grid_y = np.mgrid[0:1:100j, 0:1:200j]\n"
   ]
  },
  {
   "cell_type": "code",
   "execution_count": 7,
   "metadata": {},
   "outputs": [
    {
     "data": {
      "text/plain": [
       "array([[0.        , 0.        , 0.        , ..., 0.        , 0.        ,\n",
       "        0.        ],\n",
       "       [0.01010101, 0.01010101, 0.01010101, ..., 0.01010101, 0.01010101,\n",
       "        0.01010101],\n",
       "       [0.02020202, 0.02020202, 0.02020202, ..., 0.02020202, 0.02020202,\n",
       "        0.02020202],\n",
       "       ...,\n",
       "       [0.97979798, 0.97979798, 0.97979798, ..., 0.97979798, 0.97979798,\n",
       "        0.97979798],\n",
       "       [0.98989899, 0.98989899, 0.98989899, ..., 0.98989899, 0.98989899,\n",
       "        0.98989899],\n",
       "       [1.        , 1.        , 1.        , ..., 1.        , 1.        ,\n",
       "        1.        ]])"
      ]
     },
     "execution_count": 7,
     "metadata": {},
     "output_type": "execute_result"
    }
   ],
   "source": [
    "grid_x"
   ]
  },
  {
   "cell_type": "code",
   "execution_count": 8,
   "metadata": {},
   "outputs": [],
   "source": [
    "points = np.random.rand(1000, 2)\n",
    "values = func(points[:,0], points[:,1])"
   ]
  },
  {
   "cell_type": "code",
   "execution_count": 11,
   "metadata": {},
   "outputs": [
    {
     "data": {
      "text/plain": [
       "array([[0.132804  , 0.58547564],\n",
       "       [0.7179368 , 0.5805899 ],\n",
       "       [0.30820147, 0.68499719],\n",
       "       ...,\n",
       "       [0.17314477, 0.737855  ],\n",
       "       [0.98162058, 0.46163188],\n",
       "       [0.25707789, 0.86132743]])"
      ]
     },
     "execution_count": 11,
     "metadata": {},
     "output_type": "execute_result"
    }
   ],
   "source": [
    "points"
   ]
  },
  {
   "cell_type": "code",
   "execution_count": 19,
   "metadata": {},
   "outputs": [
    {
     "data": {
      "text/plain": [
       "1000"
      ]
     },
     "execution_count": 19,
     "metadata": {},
     "output_type": "execute_result"
    }
   ],
   "source": [
    "len(points)"
   ]
  },
  {
   "cell_type": "code",
   "execution_count": null,
   "metadata": {},
   "outputs": [],
   "source": []
  }
 ],
 "metadata": {
  "kernelspec": {
   "display_name": "Python 3",
   "language": "python",
   "name": "python3"
  },
  "language_info": {
   "codemirror_mode": {
    "name": "ipython",
    "version": 3
   },
   "file_extension": ".py",
   "mimetype": "text/x-python",
   "name": "python",
   "nbconvert_exporter": "python",
   "pygments_lexer": "ipython3",
   "version": "3.8.3"
  }
 },
 "nbformat": 4,
 "nbformat_minor": 4
}
