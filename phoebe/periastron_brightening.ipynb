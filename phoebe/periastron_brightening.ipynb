{
 "cells": [
  {
   "cell_type": "code",
   "execution_count": 1,
   "metadata": {},
   "outputs": [],
   "source": [
    "import numpy as np\n",
    "import matplotlib.pyplot as plt\n",
    "plt.style.use('science')\n",
    "import matplotlib\n",
    "matplotlib.rcParams['font.size'] = 8\n",
    "from phoebe.dependencies import distl\n",
    "import phoebe\n",
    "from astropy import units as u\n",
    "from astropy import constants as c\n",
    "phoebe.interactive_checks_off()\n",
    "phoebe.interactive_constraints_off()"
   ]
  },
  {
   "cell_type": "code",
   "execution_count": null,
   "metadata": {},
   "outputs": [],
   "source": []
  },
  {
   "cell_type": "code",
   "execution_count": 2,
   "metadata": {},
   "outputs": [],
   "source": [
    "#values from the ELLC solution and derived quantities\n",
    "ellc_res = {\n",
    "    'period@binary': phoebe.gaussian(51.41888, 0.00008),\n",
    "    't0_supconj': phoebe.gaussian(2458696.0199, 0.0002),\n",
    "    'requivsumfrac': phoebe.gaussian(0.0705, 0.00045),\n",
    "    'requivratio': phoebe.gaussian(0.47, 0.01),\n",
    "    'incl@binary': phoebe.gaussian(86.35, 0.04),\n",
    "    'sbratio': phoebe.gaussian(1.03,0.035),\n",
    "    'ecc': phoebe.gaussian(0.4242, 0.0003),\n",
    "    'per0': phoebe.gaussian(0.3718*180/np.pi,0.0023*180/np.pi),\n",
    "    'sma@primary': phoebe.gaussian(44.564,0.1055),\n",
    "    'ld_coeffs[0]@primary': phoebe.gaussian(0.2,0.1),\n",
    "    'ld_coeffs[1]@primary': phoebe.gaussian(0.5,0.3),\n",
    "    'ld_coeffs[0]@secondary': phoebe.gaussian(0.2,0.15),\n",
    "    'ld_coeffs[1]@secondary': phoebe.gaussian(0.5,0.3),\n",
    "    'vsini@primary': phoebe.gaussian(27.6,0.45),\n",
    "    'vgamma_1': phoebe.gaussian(-11.68,0.03),\n",
    "    'vgamma': phoebe.gaussian(-13.5,0.1),\n",
    "    'semi_amplitude': phoebe.gaussian(47.74,0.06),\n",
    "    'mass_function': phoebe.gaussian(0.438,0.002),\n",
    "    'mass@primary': phoebe.gaussian(3.45,0.12),\n",
    "    'requiv@primary': phoebe.gaussian(5.14,0.135),\n",
    "    'teff@primary': phoebe.gaussian(9975,125),\n",
    "    'logg@primary': phoebe.gaussian(3.63,0.20),\n",
    "    'parallax': phoebe.gaussian(12.18,0.31),\n",
    "    'logL@system': phoebe.gaussian(2.385,0.025),\n",
    "    'r1': phoebe.gaussian(0.0479,0.00025),\n",
    "    'r2': phoebe.gaussian(0.0226,0.0005),\n",
    "    'teffratio': phoebe.gaussian(1.02,0.05),\n",
    "    'syncpar@primary': phoebe.gaussian(5.45,0.50),\n",
    "    'syncpar@secondary': phoebe.gaussian(50,10),\n",
    "    'q@binary': phoebe.gaussian(0.588,0.018),\n",
    "    'esinw': phoebe.gaussian(0.1541, 0.0009),\n",
    "    'ecosw': phoebe.gaussian(0.3952, 0.0005)\n",
    "\n",
    "}"
   ]
  },
  {
   "cell_type": "markdown",
   "metadata": {},
   "source": [
    "All available data:"
   ]
  },
  {
   "cell_type": "code",
   "execution_count": 3,
   "metadata": {},
   "outputs": [],
   "source": [
    "lc_tess_old = np.loadtxt('data/photometry/tess_corrected.txt') # detrending with periastron brightening\n",
    "lc_tess = np.loadtxt('data/photometry/tess_corrected_new.txt') # flat out-of-eclipse detrending\n",
    "rv1_song = np.loadtxt('data/RV/SONG_LSD.txt')\n",
    "rv1_bischoff = np.loadtxt('data/RV/bischoff_rv_fixed_time.txt')\n",
    "# adjust all times to BJD\n",
    "lc_tess[:,0] = lc_tess[:,0]+2457000 \n",
    "lc_tess_old[:,0] = lc_tess_old[:,0]+2457000\n",
    "rv1_song[:,0]=rv1_song[:,0]+2400000\n",
    "rv1_bischoff[:,0]=rv1_bischoff[:,0]+2457000"
   ]
  },
  {
   "cell_type": "markdown",
   "metadata": {},
   "source": [
    "Setup the PHOEBE bundle and all relevant parameters to compute a forward model with the ELLC backend and spherical geometry, to make sure that we still get a similar result as using pure ELLC (not interfacing with PHOEBE):"
   ]
  },
  {
   "cell_type": "code",
   "execution_count": 4,
   "metadata": {},
   "outputs": [
    {
     "data": {
      "text/plain": [
       "<ParameterSet: 45 parameters | contexts: figure, compute, dataset, constraint>"
      ]
     },
     "execution_count": 4,
     "metadata": {},
     "output_type": "execute_result"
    }
   ],
   "source": [
    "b = phoebe.default_binary()\n",
    "b.add_dataset('lc', times=lc_tess[:,0], fluxes=lc_tess[:,1], sigmas=lc_tess[:,2], \n",
    "              compute_phases=phoebe.linspace(-0.5,0.5,1000),\n",
    "              passband='TESS:T')\n",
    "b.add_dataset('lc', times=lc_tess_old[:,0], fluxes=lc_tess_old[:,1], sigmas=lc_tess_old[:,2],\n",
    "              compute_phases=phoebe.linspace(-0.5,0.5,1000),\n",
    "              passband='TESS:T')\n",
    "# b.add_dataset('rv', component='primary', times=rv1_song[:,0], rvs=rv1_song[:,1], sigmas=rv1_song[:,2])\n",
    "# b.add_dataset('rv', component='primary', times=rv1_bischoff[:,0], rvs=rv1_bischoff[:,1], sigmas=rv1_bischoff[:,2])"
   ]
  },
  {
   "cell_type": "code",
   "execution_count": 5,
   "metadata": {},
   "outputs": [],
   "source": [
    "# b.add_compute('ellc')\n",
    "# b.set_value_all('ld_mode', value='manual')\n",
    "# b.set_value_all('ld_func', value='square_root')\n",
    "# b.set_value_all('rv_method', compute='ellc01', value='flux-weighted')\n",
    "# b.set_value_all('irrad_method', compute='ellc01', value='none')"
   ]
  },
  {
   "cell_type": "code",
   "execution_count": 6,
   "metadata": {},
   "outputs": [
    {
     "data": {
      "text/plain": [
       "<ConstraintParameter: {per0@binary@component} = arctan2({esinw@binary@component}, {ecosw@binary@component}) (solar units) => 0.0 deg>"
      ]
     },
     "execution_count": 6,
     "metadata": {},
     "output_type": "execute_result"
    }
   ],
   "source": [
    "b.add_constraint('requivsumfrac')\n",
    "b.add_constraint('requivratio')\n",
    "b.add_constraint('teffratio')\n",
    "\n",
    "b.flip_constraint('requivsumfrac', solve_for='requiv@primary')\n",
    "b.flip_constraint('requivratio', solve_for='requiv@secondary')\n",
    "b.flip_constraint('teffratio', solve_for='teff@secondary')\n",
    "\n",
    "b.flip_constraint('esinw', solve_for='ecc')\n",
    "b.flip_constraint('ecosw', solve_for='per0')"
   ]
  },
  {
   "cell_type": "code",
   "execution_count": 7,
   "metadata": {},
   "outputs": [
    {
     "data": {
      "text/plain": [
       "<ConstraintParameter: {sma@binary@component} = {sma@primary@component} * ((1.000000 / {q@binary@component}) + 1.000000) (solar units) => 5.3 solRad>"
      ]
     },
     "execution_count": 7,
     "metadata": {},
     "output_type": "execute_result"
    }
   ],
   "source": [
    "b.flip_constraint('sma@primary', solve_for='sma@binary')"
   ]
  },
  {
   "cell_type": "code",
   "execution_count": 8,
   "metadata": {},
   "outputs": [],
   "source": [
    "b.set_value_all('gravb_bol', 1.0)\n",
    "b.set_value_all('irrad_frac_refl_bol', 1.0)\n",
    "b.set_value_all('pblum_mode', 'dataset-scaled')"
   ]
  },
  {
   "cell_type": "markdown",
   "metadata": {},
   "source": [
    "Set all relevant values in the bundle:"
   ]
  },
  {
   "cell_type": "code",
   "execution_count": 9,
   "metadata": {},
   "outputs": [],
   "source": [
    "ph_params = ['t0_supconj', 'period@binary', 'requivsumfrac', 'requivratio', \n",
    "             'incl@binary', 'esinw', 'ecosw', 'teff@primary', 'teffratio', 'q@binary',\n",
    "             'sma@primary', 'vgamma', 'syncpar@primary', 'syncpar@secondary']\n",
    "for twig in ph_params:\n",
    "    b.set_value(twig, ellc_res[twig].loc)\n",
    "    \n",
    "# b.set_value_all('ld_coeffs@primary', [0.2,0.5])\n",
    "# b.set_value_all('ld_coeffs@secondary', [0.2,0.5])"
   ]
  },
  {
   "cell_type": "markdown",
   "metadata": {},
   "source": [
    "Compute with 'sphere' and 'roche' distortions:"
   ]
  },
  {
   "cell_type": "code",
   "execution_count": 10,
   "metadata": {},
   "outputs": [
    {
     "data": {
      "text/plain": [
       "<ParameterSet: 11 parameters | qualifiers: walltime, install_deps, conda_env, crimpl_name, nprocs, mail_user, mail_type, use_mpi, slurm_job_name, isolate_env, use_conda>"
      ]
     },
     "execution_count": 10,
     "metadata": {},
     "output_type": "execute_result"
    }
   ],
   "source": [
    "b.add_server('remoteslurm', crimpl_name='terra',\n",
    "             use_conda=True, \n",
    "             conda_env='phoebe-devel', nprocs=96, walltime=48, install_deps=False,\n",
    "             server='terra_phoebe_compute')"
   ]
  },
  {
   "cell_type": "code",
   "execution_count": 13,
   "metadata": {},
   "outputs": [],
   "source": [
    "b.set_value('ntriangles', component='secondary', value=20000)\n",
    "b.set_value('ntriangles', component='primary', value=20000)"
   ]
  },
  {
   "cell_type": "code",
   "execution_count": 14,
   "metadata": {
    "scrolled": true
   },
   "outputs": [
    {
     "name": "stdout",
     "output_type": "stream",
     "text": [
      "# crimpl: ssh terra \"ls -d ~/crimpl/crimpl-job-*\"\n",
      "# crimpl: ssh terra \"pwd\"\n",
      "# crimpl: ssh terra \"ls /home/users/angela/crimpl/crimpl-job-2021.06.29-09.20.14/*\"\n",
      "# crimpl: ssh terra \"mkdir -p ~/crimpl\"\n",
      "# crimpl: scp exportpath.sh terra:~/crimpl/\n",
      "# crimpl: ssh terra \"source ~/crimpl/exportpath.sh; conda -V\"\n",
      "# crimpl: ssh terra \"source ~/crimpl/exportpath.sh; conda info --envs\"\n",
      "# crimpl: ssh terra \"ls -d ~/crimpl/crimpl-envs/*\"\n",
      "# crimpl: ssh terra \"ls -d ~/crimpl/crimpl-job-2021.06.29-09.20.14/crimpl-envs/*\"\n",
      "# crimpl: ssh terra \"source ~/crimpl/exportpath.sh; mkdir -p /home/users/angela/crimpl/crimpl-job-2021.06.29-09.20.14\"\n",
      "# crimpl: scp crimpl_submit_script.sh /Users/angela/Documents/WORK/PHOETTING/adra-paper/_gSkslnOrhOBRVIELThxlqAkcexMxrD.py terra:/home/users/angela/crimpl/crimpl-job-2021.06.29-09.20.14/\n",
      "# crimpl: ssh terra \"source ~/crimpl/exportpath.sh; echo '_gSkslnOrhOBRVIELThxlqAkcexMxrD.py' >> /home/users/angela/crimpl/crimpl-job-2021.06.29-09.20.14/crimpl-input-files.list\"\n",
      "# crimpl: ssh terra \"source ~/crimpl/exportpath.sh; echo 'phoebe-devel' > /home/users/angela/crimpl/crimpl-job-2021.06.29-09.20.14/crimpl-conda-environment\"\n",
      "# crimpl: ssh terra \"source ~/crimpl/exportpath.sh; sbatch /home/users/angela/crimpl/crimpl-job-2021.06.29-09.20.14/crimpl_submit_script.sh\"\n",
      "# crimpl: ssh terra \"echo 1860 > /home/users/angela/crimpl/crimpl-job-2021.06.29-09.20.14/crimpl_slurm_id\"\n",
      "# crimpl: ssh terra \"ls -d ~/crimpl/crimpl-job-*\"\n",
      "# crimpl: ssh terra \"pwd\"\n",
      "# crimpl: ssh terra \"cat /home/users/angela/crimpl/crimpl-job-2021.06.29-09.20.14/crimpl_slurm_id\"\n",
      "# crimpl: ssh terra \"squeue -j 1860\"\n",
      "# crimpl: ssh terra \"squeue -j 1860\"\n",
      "# crimpl: ssh terra \"squeue -j 1860\"\n",
      "# crimpl: ssh terra \"squeue -j 1860\"\n",
      "# crimpl: ssh terra \"squeue -j 1860\"\n",
      "# crimpl: ssh terra \"squeue -j 1860\"\n",
      "# crimpl: ssh terra \"squeue -j 1860\"\n",
      "# crimpl: ssh terra \"cat /home/users/angela/crimpl/crimpl-job-2021.06.29-09.20.14/crimpl-job.status\"\n",
      "# crimpl: ssh terra \"ls /home/users/angela/crimpl/crimpl-job-2021.06.29-09.20.14/*\"\n",
      "# crimpl: ssh terra \"ls /home/users/angela/crimpl/crimpl-job-2021.06.29-09.20.14/*\"\n",
      "# crimpl: scp terra:/home/users/angela/crimpl/crimpl-job-2021.06.29-09.20.14/_gSkslnOrhOBRVIELThxlqAkcexMxrD.out ./\n"
     ]
    },
    {
     "data": {
      "text/plain": [
       "<ParameterSet: 4 parameters | qualifiers: comments, times, fluxes, flux_scale>"
      ]
     },
     "execution_count": 14,
     "metadata": {},
     "output_type": "execute_result"
    }
   ],
   "source": [
    "b.set_value('distortion_method', component='secondary', value='sphere')\n",
    "b.set_value('distortion_method', component='primary', value='sphere')\n",
    "b.set_value_all('irrad_method', 'none')\n",
    "b.enable_dataset('lc01')\n",
    "b.disable_dataset('lc02')\n",
    "b.run_checks()\n",
    "b.run_delayed_constraints()\n",
    "b.run_compute('phoebe01', model='sphere', irrad_method='none', use_server='terra_phoebe_compute')"
   ]
  },
  {
   "cell_type": "code",
   "execution_count": 15,
   "metadata": {},
   "outputs": [
    {
     "name": "stdout",
     "output_type": "stream",
     "text": [
      "# crimpl: ssh terra \"ls -d ~/crimpl/crimpl-job-*\"\n",
      "# crimpl: ssh terra \"pwd\"\n",
      "# crimpl: ssh terra \"ls /home/users/angela/crimpl/crimpl-job-2021.06.29-09.24.10/*\"\n",
      "# crimpl: ssh terra \"source ~/crimpl/exportpath.sh; conda -V\"\n",
      "# crimpl: ssh terra \"source ~/crimpl/exportpath.sh; conda info --envs\"\n",
      "# crimpl: ssh terra \"ls -d ~/crimpl/crimpl-envs/*\"\n",
      "# crimpl: ssh terra \"ls -d ~/crimpl/crimpl-job-2021.06.29-09.24.10/crimpl-envs/*\"\n",
      "# crimpl: ssh terra \"source ~/crimpl/exportpath.sh; mkdir -p /home/users/angela/crimpl/crimpl-job-2021.06.29-09.24.10\"\n",
      "# crimpl: scp crimpl_submit_script.sh /Users/angela/Documents/WORK/PHOETTING/adra-paper/_CFihdeihlzYinUdjwCYgKOFoddsDYQ.py terra:/home/users/angela/crimpl/crimpl-job-2021.06.29-09.24.10/\n",
      "# crimpl: ssh terra \"source ~/crimpl/exportpath.sh; echo '_CFihdeihlzYinUdjwCYgKOFoddsDYQ.py' >> /home/users/angela/crimpl/crimpl-job-2021.06.29-09.24.10/crimpl-input-files.list\"\n",
      "# crimpl: ssh terra \"source ~/crimpl/exportpath.sh; echo 'phoebe-devel' > /home/users/angela/crimpl/crimpl-job-2021.06.29-09.24.10/crimpl-conda-environment\"\n",
      "# crimpl: ssh terra \"source ~/crimpl/exportpath.sh; sbatch /home/users/angela/crimpl/crimpl-job-2021.06.29-09.24.10/crimpl_submit_script.sh\"\n",
      "# crimpl: ssh terra \"echo 1861 > /home/users/angela/crimpl/crimpl-job-2021.06.29-09.24.10/crimpl_slurm_id\"\n",
      "# crimpl: ssh terra \"ls -d ~/crimpl/crimpl-job-*\"\n",
      "# crimpl: ssh terra \"pwd\"\n",
      "# crimpl: ssh terra \"cat /home/users/angela/crimpl/crimpl-job-2021.06.29-09.24.10/crimpl_slurm_id\"\n",
      "# crimpl: ssh terra \"squeue -j 1861\"\n",
      "# crimpl: ssh terra \"squeue -j 1861\"\n",
      "# crimpl: ssh terra \"squeue -j 1861\"\n",
      "# crimpl: ssh terra \"squeue -j 1861\"\n",
      "# crimpl: ssh terra \"squeue -j 1861\"\n",
      "# crimpl: ssh terra \"squeue -j 1861\"\n",
      "# crimpl: ssh terra \"squeue -j 1861\"\n",
      "# crimpl: ssh terra \"squeue -j 1861\"\n",
      "# crimpl: ssh terra \"squeue -j 1861\"\n",
      "# crimpl: ssh terra \"squeue -j 1861\"\n",
      "# crimpl: ssh terra \"squeue -j 1861\"\n",
      "# crimpl: ssh terra \"squeue -j 1861\"\n",
      "# crimpl: ssh terra \"squeue -j 1861\"\n",
      "# crimpl: ssh terra \"squeue -j 1861\"\n",
      "# crimpl: ssh terra \"squeue -j 1861\"\n",
      "# crimpl: ssh terra \"squeue -j 1861\"\n",
      "# crimpl: ssh terra \"squeue -j 1861\"\n",
      "# crimpl: ssh terra \"cat /home/users/angela/crimpl/crimpl-job-2021.06.29-09.24.10/crimpl-job.status\"\n",
      "# crimpl: ssh terra \"ls /home/users/angela/crimpl/crimpl-job-2021.06.29-09.24.10/*\"\n",
      "# crimpl: ssh terra \"ls /home/users/angela/crimpl/crimpl-job-2021.06.29-09.24.10/*\"\n",
      "# crimpl: scp terra:/home/users/angela/crimpl/crimpl-job-2021.06.29-09.24.10/_CFihdeihlzYinUdjwCYgKOFoddsDYQ.out ./\n"
     ]
    },
    {
     "data": {
      "text/plain": [
       "<ParameterSet: 4 parameters | qualifiers: comments, times, fluxes, flux_scale>"
      ]
     },
     "execution_count": 15,
     "metadata": {},
     "output_type": "execute_result"
    }
   ],
   "source": [
    "b.set_value('distortion_method', component='secondary', value='sphere')\n",
    "b.set_value('distortion_method', component='primary', value='roche')\n",
    "b.set_value_all('irrad_method', 'horvat')\n",
    "b.enable_dataset('lc02')\n",
    "b.disable_dataset('lc01')\n",
    "b.run_checks()\n",
    "b.run_delayed_constraints()\n",
    "b.run_compute('phoebe01', model='roche', use_server='terra_phoebe_compute')"
   ]
  },
  {
   "cell_type": "code",
   "execution_count": 16,
   "metadata": {},
   "outputs": [
    {
     "data": {
      "text/plain": [
       "'periastron_model.bundle'"
      ]
     },
     "execution_count": 16,
     "metadata": {},
     "output_type": "execute_result"
    }
   ],
   "source": [
    "b.save('periastron_model.bundle')"
   ]
  },
  {
   "cell_type": "code",
   "execution_count": 17,
   "metadata": {},
   "outputs": [],
   "source": [
    "times_obs = b.get_value('times', context='dataset', dataset='lc02')\n",
    "times_model = b.get_value('times', context='model', model='roche', dataset='lc02')\n",
    "\n",
    "phases_obs = b.to_phase(times_obs)\n",
    "phases_model = b.to_phase(times_model)\n",
    "\n",
    "sobs = np.argsort(phases_obs)\n",
    "smodel = np.argsort(phases_model)\n",
    "\n",
    "fluxes_flat = b.get_value('fluxes', context='dataset', dataset='lc01')\n",
    "fluxes_per0 = b.get_value('fluxes', context='dataset', dataset='lc02')\n",
    "\n",
    "fluxes_sphere = b.get_value('fluxes', context='model', model='sphere', dataset='lc01')\n",
    "fluxes_roche = b.get_value('fluxes', context='model', model='roche', dataset='lc02')"
   ]
  },
  {
   "cell_type": "code",
   "execution_count": 18,
   "metadata": {},
   "outputs": [
    {
     "name": "stderr",
     "output_type": "stream",
     "text": [
      "<ipython-input-18-0c8a9caf2e7c>:27: MatplotlibDeprecationWarning: savefig() got unexpected keyword argument \"rasterized\" which is no longer supported as of 3.3 and will become an error two minor releases later\n",
      "  fig.savefig('plots/' + 'periastron_phoebe.pdf', dpi=300, rasterized=True)\n",
      "<ipython-input-18-0c8a9caf2e7c>:28: MatplotlibDeprecationWarning: savefig() got unexpected keyword argument \"rasterized\" which is no longer supported as of 3.3 and will become an error two minor releases later\n",
      "  fig.savefig('plots/' + 'periastron_phoebe.png', dpi=300, rasterized=True)\n"
     ]
    },
    {
     "data": {
      "image/png": "[encoded data removed]",
      "text/plain": [
       "<Figure size 240x150.781 with 2 Axes>"
      ]
     },
     "metadata": {
      "needs_background": "light"
     },
     "output_type": "display_data"
    }
   ],
   "source": [
    "%matplotlib inline\n",
    "fig, axes = plt.subplots(1,2, figsize=[10/3, 2.0941842916664606])\n",
    "# b.plot(kind='lc', dataset='lc01', model=['sphere', 'roche'], x='phases', y='fluxes', \n",
    "#            s={'dataset': 0.0025, 'model': 0.025}, ylim=((0.998,1.001)),\n",
    "#            marker={'dataset': '.'}, ax=axes[0], draw=True)\n",
    "# b.plot(kind='lc', dataset='lc02', model=['sphere', 'roche'], x='phases', y='fluxes', \n",
    "#            s={'dataset': 0.0025, 'model': 0.025}, ylim=((0.998,1.001)),\n",
    "#            marker={'dataset': '.'}, ax=axes[1], draw=True)\n",
    "\n",
    "ax = axes[0]\n",
    "ax.plot(phases_obs[sobs], fluxes_flat[sobs], '.k', alpha=0.6, rasterized=True)\n",
    "ax.plot(phases_model[smodel], fluxes_sphere[smodel], c='C0', ls='-', lw=1, label='spherical model')\n",
    "ax.plot(phases_model[smodel], fluxes_roche[smodel], c='C2', lw=1, ls='--', label='roche model')\n",
    "ax.legend(fontsize=7)\n",
    "\n",
    "ax = axes[1]\n",
    "ax.plot(phases_obs[sobs], fluxes_per0[sobs], '.k', alpha=0.6, rasterized=True)\n",
    "ax.plot(phases_model[smodel], fluxes_sphere[smodel], c='C0', ls='-', lw=1, label='spherical model')\n",
    "ax.plot(phases_model[smodel], fluxes_roche[smodel], c='C2', lw=1, ls='--', label='roche model')\n",
    "# ax.legend(fontsize=7)\n",
    "\n",
    "axes[0].set(xlim=[-0.3, 0.1], ylim=[0.998,1.0015], ylabel='Flux', xlabel='Phase')\n",
    "axes[1].set(xlim=[-0.3, 0.1], ylim=[0.998,1.0015], yticks=[], xlabel='Phase', ylabel='')\n",
    "\n",
    "plt.subplots_adjust(hspace=0.05, wspace=0.05)\n",
    "fig.tight_layout()\n",
    "fig.savefig('plots/' + 'periastron_phoebe.pdf', dpi=300, rasterized=True)\n",
    "fig.savefig('plots/' + 'periastron_phoebe.png', dpi=300, rasterized=True)\n",
    "plt.show()"
   ]
  },
  {
   "cell_type": "code",
   "execution_count": null,
   "metadata": {},
   "outputs": [],
   "source": []
  }
 ],
 "metadata": {
  "kernelspec": {
   "display_name": "Python 3",
   "language": "python",
   "name": "python3"
  },
  "language_info": {
   "codemirror_mode": {
    "name": "ipython",
    "version": 3
   },
   "file_extension": ".py",
   "mimetype": "text/x-python",
   "name": "python",
   "nbconvert_exporter": "python",
   "pygments_lexer": "ipython3",
   "version": "3.8.5"
  }
 },
 "nbformat": 4,
 "nbformat_minor": 4
}
