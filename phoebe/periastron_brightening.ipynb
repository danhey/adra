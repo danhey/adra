{
 "cells": [
  {
   "cell_type": "code",
   "execution_count": 1,
   "metadata": {},
   "outputs": [],
   "source": [
    "import numpy as np\n",
    "import matplotlib.pyplot as plt\n",
    "plt.style.use('science')\n",
    "import matplotlib\n",
    "matplotlib.rcParams['font.size'] = 8\n",
    "from phoebe.dependencies import distl\n",
    "import phoebe\n",
    "from astropy import units as u\n",
    "from astropy import constants as c\n",
    "phoebe.interactive_checks_off()\n",
    "phoebe.interactive_constraints_off()"
   ]
  },
  {
   "cell_type": "code",
   "execution_count": 2,
   "metadata": {},
   "outputs": [],
   "source": [
    "#values from the ELLC solution and derived quantities\n",
    "ellc_res = {\n",
    "    'period@binary': phoebe.gaussian(51.41888, 0.00008),\n",
    "    't0_supconj': phoebe.gaussian(2458696.0199, 0.0002),\n",
    "    'requivsumfrac': phoebe.gaussian(0.0705, 0.00045),\n",
    "    'requivratio': phoebe.gaussian(0.47, 0.01),\n",
    "    'incl@binary': phoebe.gaussian(86.35, 0.04),\n",
    "    'sbratio': phoebe.gaussian(1.03,0.035),\n",
    "    'ecc': phoebe.gaussian(0.4242, 0.0003),\n",
    "    'per0': phoebe.gaussian(0.3718*180/np.pi,0.0023*180/np.pi),\n",
    "    'sma@primary': phoebe.gaussian(44.564,0.1055),\n",
    "    'ld_coeffs[0]@primary': phoebe.gaussian(0.2,0.1),\n",
    "    'ld_coeffs[1]@primary': phoebe.gaussian(0.5,0.3),\n",
    "    'ld_coeffs[0]@secondary': phoebe.gaussian(0.2,0.15),\n",
    "    'ld_coeffs[1]@secondary': phoebe.gaussian(0.5,0.3),\n",
    "    'vsini@primary': phoebe.gaussian(27.6,0.45),\n",
    "    'vgamma_1': phoebe.gaussian(-11.68,0.03),\n",
    "    'vgamma': phoebe.gaussian(-13.5,0.1),\n",
    "    'semi_amplitude': phoebe.gaussian(47.74,0.06),\n",
    "    'mass_function': phoebe.gaussian(0.438,0.002),\n",
    "    'mass@primary': phoebe.gaussian(3.45,0.12),\n",
    "    'requiv@primary': phoebe.gaussian(5.14,0.135),\n",
    "    'teff@primary': phoebe.gaussian(9975,125),\n",
    "    'logg@primary': phoebe.gaussian(3.63,0.20),\n",
    "    'parallax': phoebe.gaussian(12.18,0.31),\n",
    "    'logL@system': phoebe.gaussian(2.385,0.025),\n",
    "    'r1': phoebe.gaussian(0.0479,0.00025),\n",
    "    'r2': phoebe.gaussian(0.0226,0.0005),\n",
    "    'teffratio': phoebe.gaussian(1.02,0.05),\n",
    "    'syncpar@primary': phoebe.gaussian(5.45,0.50),\n",
    "    'syncpar@secondary': phoebe.gaussian(50,10),\n",
    "    'q@binary': phoebe.gaussian(0.588,0.018),\n",
    "    'esinw': phoebe.gaussian(0.1541, 0.0009),\n",
    "    'ecosw': phoebe.gaussian(0.3952, 0.0005)\n",
    "\n",
    "}"
   ]
  },
  {
   "cell_type": "markdown",
   "metadata": {},
   "source": [
    "All available data:"
   ]
  },
  {
   "cell_type": "code",
   "execution_count": 3,
   "metadata": {},
   "outputs": [],
   "source": [
    "lc_tess_old = np.loadtxt('data/tess_corrected_old.txt') # detrending with periastron brightening\n",
    "lc_tess = np.loadtxt('../data/photometry/tess_corrected.txt') # flat out-of-eclipse detrending\n",
    "rv1_song = np.loadtxt('../data/RV/SONG.txt')\n",
    "rv1_bischoff = np.loadtxt('../data/RV/bischoff_rv_fixed_time.txt')\n",
    "# adjust all times to BJD\n",
    "lc_tess[:,0] = lc_tess[:,0]+2457000 \n",
    "lc_tess_old[:,0] = lc_tess_old[:,0]+2457000\n",
    "rv1_song[:,0]=rv1_song[:,0]+2400000\n",
    "rv1_bischoff[:,0]=rv1_bischoff[:,0]+2457000"
   ]
  },
  {
   "cell_type": "markdown",
   "metadata": {},
   "source": [
    "Setup the PHOEBE bundle and all relevant parameters to compute a forward model with the ELLC backend and spherical geometry, to make sure that we still get a similar result as using pure ELLC (not interfacing with PHOEBE):"
   ]
  },
  {
   "cell_type": "code",
   "execution_count": 4,
   "metadata": {},
   "outputs": [
    {
     "data": {
      "text/plain": [
       "<ParameterSet: 47 parameters | contexts: constraint, dataset, figure, compute>"
      ]
     },
     "execution_count": 4,
     "metadata": {},
     "output_type": "execute_result"
    }
   ],
   "source": [
    "b = phoebe.default_binary()\n",
    "b.add_dataset('lc', times=lc_tess[:,0], fluxes=lc_tess[:,1], sigmas=lc_tess[:,2], passband='TESS:T')\n",
    "b.add_dataset('lc', times=lc_tess_old[:,0], fluxes=lc_tess_old[:,1], sigmas=lc_tess_old[:,2], passband='TESS:T')\n",
    "b.add_dataset('rv', component='primary', times=rv1_song[:,0], rvs=rv1_song[:,1], sigmas=rv1_song[:,2])\n",
    "b.add_dataset('rv', component='primary', times=rv1_bischoff[:,0], rvs=rv1_bischoff[:,1], sigmas=rv1_bischoff[:,2])"
   ]
  },
  {
   "cell_type": "code",
   "execution_count": 5,
   "metadata": {},
   "outputs": [],
   "source": [
    "b.add_compute('ellc')\n",
    "b.set_value_all('ld_mode', value='manual')\n",
    "b.set_value_all('ld_func', value='square_root')\n",
    "b.set_value_all('rv_method', compute='ellc01', value='flux-weighted')\n",
    "# b.set_value_all('irrad_method', compute='ellc01', value='none')"
   ]
  },
  {
   "cell_type": "code",
   "execution_count": 6,
   "metadata": {},
   "outputs": [
    {
     "data": {
      "text/plain": [
       "<ConstraintParameter: {per0@binary@component} = arctan2({esinw@binary@component}, {ecosw@binary@component}) (solar units) => 0.0 deg>"
      ]
     },
     "execution_count": 6,
     "metadata": {},
     "output_type": "execute_result"
    }
   ],
   "source": [
    "b.add_constraint('requivsumfrac')\n",
    "b.add_constraint('requivratio')\n",
    "b.add_constraint('teffratio')\n",
    "\n",
    "b.flip_constraint('requivsumfrac', solve_for='requiv@primary')\n",
    "b.flip_constraint('requivratio', solve_for='requiv@secondary')\n",
    "b.flip_constraint('teffratio', solve_for='teff@secondary')\n",
    "\n",
    "b.flip_constraint('esinw', solve_for='ecc')\n",
    "b.flip_constraint('ecosw', solve_for='per0')"
   ]
  },
  {
   "cell_type": "code",
   "execution_count": 7,
   "metadata": {},
   "outputs": [
    {
     "data": {
      "text/plain": [
       "<ConstraintParameter: {sma@binary@component} = {sma@primary@component} * ((1.000000 / {q@binary@component}) + 1.000000) (solar units) => 5.3 solRad>"
      ]
     },
     "execution_count": 7,
     "metadata": {},
     "output_type": "execute_result"
    }
   ],
   "source": [
    "b.flip_constraint('sma@primary', solve_for='sma@binary')"
   ]
  },
  {
   "cell_type": "code",
   "execution_count": 8,
   "metadata": {},
   "outputs": [],
   "source": [
    "b.set_value_all('gravb_bol', 1.0)\n",
    "b.set_value_all('irrad_frac_refl_bol', 1.0)\n",
    "b.set_value_all('pblum_mode', 'dataset-scaled')"
   ]
  },
  {
   "cell_type": "markdown",
   "metadata": {},
   "source": [
    "Set all relevant values in the bundle:"
   ]
  },
  {
   "cell_type": "code",
   "execution_count": 9,
   "metadata": {},
   "outputs": [],
   "source": [
    "ph_params = ['t0_supconj', 'period@binary', 'requivsumfrac', 'requivratio', \n",
    "             'incl@binary', 'esinw', 'ecosw', 'teff@primary', 'teffratio', 'q@binary',\n",
    "             'sma@primary', 'vgamma', 'syncpar@primary', 'syncpar@secondary']\n",
    "for twig in ph_params:\n",
    "    b.set_value(twig, ellc_res[twig].loc)\n",
    "    \n",
    "b.set_value_all('ld_coeffs@primary', [0.2,0.5])\n",
    "b.set_value_all('ld_coeffs@secondary', [0.2,0.5])"
   ]
  },
  {
   "cell_type": "markdown",
   "metadata": {},
   "source": [
    "Compute with 'sphere' and 'roche' distortions:"
   ]
  },
  {
   "cell_type": "code",
   "execution_count": 10,
   "metadata": {},
   "outputs": [
    {
     "name": "stderr",
     "output_type": "stream",
     "text": [
      "100%|██████████| 4/4 [00:08<00:00,  2.15s/it]\n",
      "100%|██████████| 4/4 [00:10<00:00,  2.59s/it]\n"
     ]
    },
    {
     "data": {
      "text/plain": [
       "<ParameterSet: 11 parameters | kinds: rv, lc>"
      ]
     },
     "execution_count": 10,
     "metadata": {},
     "output_type": "execute_result"
    }
   ],
   "source": [
    "b.set_value_all('distortion_method', compute='ellc01', value='sphere')\n",
    "b.set_value_all('irrad_method', compute='ellc01', value='none') # this needed because of ellc irrad issue\n",
    "b.run_checks()\n",
    "b.run_delayed_constraints()\n",
    "b.run_compute('ellc01', model='sphere')\n",
    "\n",
    "b.set_value_all('distortion_method', compute='ellc01', value='roche')\n",
    "b.set_value_all('irrad_method', compute='ellc01', value='lambert') # this needed because of ellc irrad issue\n",
    "b.run_checks()\n",
    "b.run_delayed_constraints()\n",
    "b.run_compute('ellc01', model='roche')"
   ]
  },
  {
   "cell_type": "code",
   "execution_count": 12,
   "metadata": {},
   "outputs": [
    {
     "data": {
      "image/png": "[encoded data removed]",
      "text/plain": [
       "<Figure size 241.92x150.781 with 2 Axes>"
      ]
     },
     "metadata": {
      "needs_background": "light"
     },
     "output_type": "display_data"
    }
   ],
   "source": [
    "fig, axes = plt.subplots(1,2, figsize=[3.36, 2.0941842916664606])\n",
    "fig.set_rasterized(True)\n",
    "b.plot(kind='lc', dataset='lc01', model=['sphere', 'roche'], x='phases', y='fluxes', \n",
    "           s={'dataset': 0.0025, 'model': 0.025}, ylim=((0.998,1.001)),\n",
    "           marker={'dataset': '.'}, ax=axes[0], draw=True)\n",
    "b.plot(kind='lc', dataset='lc02', model=['sphere', 'roche'], x='phases', y='fluxes', \n",
    "           s={'dataset': 0.0025, 'model': 0.025}, ylim=((0.998,1.001)),\n",
    "           marker={'dataset': '.'}, ax=axes[1], draw=True)\n",
    "\n",
    "axes[0].set(xlim=[-0.3, 0.1], ylim=[0.998,1.0015], ylabel='Flux', xlabel='Phase')\n",
    "axes[0].legend(bbox_to_anchor=(0.25,0.95), loc=\"upper left\", bbox_transform=fig.transFigure, fontsize=7, labels=['', 'sphere', 'roche'])\n",
    "axes[1].set(xlim=[-0.3, 0.1], ylim=[0.998,1.0015], yticks=[], xlabel='Phase', ylabel='')\n",
    "plt.subplots_adjust(hspace=0.05, wspace=0.05)\n",
    "fig.savefig('plots/' + 'periastron.pdf', dpi=300)\n",
    "plt.show()"
   ]
  },
  {
   "cell_type": "code",
   "execution_count": null,
   "metadata": {},
   "outputs": [],
   "source": []
  }
 ],
 "metadata": {
  "kernelspec": {
   "display_name": "Python 3",
   "language": "python",
   "name": "python3"
  },
  "language_info": {
   "codemirror_mode": {
    "name": "ipython",
    "version": 3
   },
   "file_extension": ".py",
   "mimetype": "text/x-python",
   "name": "python",
   "nbconvert_exporter": "python",
   "pygments_lexer": "ipython3",
   "version": "3.7.9"
  }
 },
 "nbformat": 4,
 "nbformat_minor": 4
}
