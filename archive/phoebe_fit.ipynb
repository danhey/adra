{
 "cells": [
  {
   "cell_type": "code",
   "execution_count": 1,
   "metadata": {},
   "outputs": [],
   "source": [
    "import lightkurve as lk\n",
    "import matplotlib.pyplot as plt\n",
    "import numpy as np\n",
    "import phoebe"
   ]
  },
  {
   "cell_type": "code",
   "execution_count": 2,
   "metadata": {},
   "outputs": [],
   "source": [
    "t, y, yerr = np.loadtxt('data/lc.txt', usecols=(0,1,2)).T\n",
    "t0_guess = t[np.argmin(y)]\n",
    "\n",
    "%run setup.py"
   ]
  },
  {
   "cell_type": "code",
   "execution_count": 3,
   "metadata": {},
   "outputs": [
    {
     "data": {
      "text/plain": [
       "Text(0, 0.5, 'Flux')"
      ]
     },
     "execution_count": 3,
     "metadata": {},
     "output_type": "execute_result"
    },
    {
     "data": {
      "image/png": "[encoded data removed]",
      "text/plain": [
       "<Figure size 900x600 with 1 Axes>"
      ]
     },
     "metadata": {
      "needs_background": "light"
     },
     "output_type": "display_data"
    }
   ],
   "source": [
    "t0_guess = t[np.argmin(y)]\n",
    "\n",
    "spacing = 0.4\n",
    "\n",
    "y_transit = y[(t > t0_guess-spacing) & (t < t0_guess+spacing)]\n",
    "t_transit = t[(t > t0_guess-spacing) & (t < t0_guess+spacing)]\n",
    "yerr_transit = yerr[(t > t0_guess-spacing) & (t < t0_guess+spacing)]\n",
    "\n",
    "plt.plot(t_transit, y_transit, '.k')\n",
    "plt.xlabel('Time')\n",
    "plt.ylabel('Flux')\n",
    "\n",
    "t1_guess = t[t>1700][np.argmin(y[t>1700])]\n",
    "y_transit2 = y[(t > t1_guess-spacing) & (t < t1_guess+spacing)]\n",
    "t_transit2 = t[(t > t1_guess-spacing) & (t < t1_guess+spacing)]\n",
    "yerr_transit2 = yerr[(t > t1_guess-spacing) & (t < t1_guess+spacing)]\n",
    "\n",
    "t2_guess = t[(t>1700) & (t<1740)][np.argmin(y[(t>1700) & (t<1740)])]\n",
    "y_transit3 = y[(t > t2_guess-spacing) & (t < t2_guess+spacing)]\n",
    "t_transit3 = t[(t > t2_guess-spacing) & (t < t2_guess+spacing)]\n",
    "yerr_transit3 = yerr[(t > t2_guess-spacing) & (t < t2_guess+spacing)]\n",
    "\n",
    "plt.plot(t_transit, y_transit, '.k')\n",
    "plt.plot(t_transit2, y_transit2, '.k')\n",
    "plt.plot(t_transit3, y_transit3, '.k')\n",
    "\n",
    "plt.xlabel('Time')\n",
    "plt.ylabel('Flux')"
   ]
  },
  {
   "cell_type": "code",
   "execution_count": 25,
   "metadata": {},
   "outputs": [],
   "source": [
    "full_transit_time, full_transit_flux, full_transit_err = np.hstack([t_transit, t_transit2, t_transit3]), np.hstack([y_transit, y_transit2, y_transit3]), np.hstack([yerr_transit, yerr_transit2, yerr_transit3])\n",
    "sort = np.argsort(full_transit_time)\n",
    "full_transit_time = full_transit_time[sort][::20]\n",
    "full_transit_flux = full_transit_flux[sort][::20]\n",
    "full_transit_err = full_transit_err[sort][::20]"
   ]
  },
  {
   "cell_type": "code",
   "execution_count": null,
   "metadata": {},
   "outputs": [],
   "source": []
  },
  {
   "cell_type": "code",
   "execution_count": 26,
   "metadata": {},
   "outputs": [],
   "source": [
    "# Our humble phoebe bundle\n",
    "b = phoebe.default_binary()\n",
    "\n",
    "# Let's add our primary transit, and set things to be dataset scaled\n",
    "b.add_dataset('lc', times=full_transit_time, fluxes=full_transit_flux, dataset='full_lc')\n",
    "# b.add_dataset('rv', times=t_rv, rv=rv, dataset='rv01')\n",
    "# b.add_dataset('mesh', times=t, columns=['intensities@full_lc'], dataset='mesh01')\n",
    "\n",
    "b['pblum_mode'] = 'dataset-scaled'\n",
    "\n",
    "b.flip_constraint('esinw', solve_for='ecc')\n",
    "b.flip_constraint('ecosw', solve_for='per0')\n",
    "\n",
    "# b.flip_constraint('compute_phases@full_lc', 'compute_times@full_lc@lc@dataset')\n",
    "\n",
    "# phases = np.linspace(0,1,101)\n",
    "# b.set_value('compute_phases@full_lc@lc', phases)\n",
    "\n",
    "b['teff@primary'] = 10100\n",
    "b['period@orbit'] = 51.472162\n",
    "b['t0_supconj'] = t0_guess"
   ]
  },
  {
   "cell_type": "code",
   "execution_count": 27,
   "metadata": {},
   "outputs": [],
   "source": [
    "tratio = 0.8\n",
    "rsum = 0.071\n",
    "rratio = 0.576\n",
    "\n",
    "b['esinw'] = 0.15820269794440003\n",
    "b['ecosw'] = 0.39553\n",
    "b['incl@binary'] = 86.213\n",
    "b['sma@component@orbit'] = 43.\n",
    "# b['q'] = q\n",
    "b['requiv@primary'] = b['value@sma@binary']*rsum/(1.+rratio)\n",
    "b['requiv@secondary'] = b['value@sma@binary']*rsum*rratio/(1.+rratio)\n",
    "# b['teff@primary'] = teff1 \n",
    "b['teff@secondary'] = tratio*b['value@teff@primary']\n",
    "# b['pblum'] = pblum\n",
    "# b['l3'] = l3\n",
    "# b.run_compute(irrad_method='none')"
   ]
  },
  {
   "cell_type": "code",
   "execution_count": 34,
   "metadata": {},
   "outputs": [],
   "source": [
    "flux =  b.run_compute(irrad_method='none').get_value('fluxes@full_lc@phoebe01@latest@lc@model')"
   ]
  },
  {
   "cell_type": "code",
   "execution_count": 35,
   "metadata": {},
   "outputs": [],
   "source": [
    "flux2 = flux / np.max(flux)"
   ]
  },
  {
   "cell_type": "code",
   "execution_count": null,
   "metadata": {},
   "outputs": [],
   "source": [
    "from __future__ import print_function, division\n",
    "\n",
    "import warnings\n",
    "\n",
    "import numpy as np\n",
    "from phoebe import Bundle\n",
    "import phoebe\n",
    "\n",
    "class Phoetter(Bundle):\n",
    "\n",
    "    def __init__(self):\n",
    "        # Speedups\n",
    "        phoebe.interactive_constraints_off()\n",
    "        self.get_parameter(context='compute', qualifier='irrad_method').set_value(\"none\")\n",
    "        self.get_parameter(context='compute', component='primary', qualifier='ntriangles').set_value(300)\n",
    "        self.get_parameter(context='compute', component='secondary', qualifier='ntriangles').set_value(300)\n",
    "        \n",
    "        # Add some fitting constraints\n",
    "        self.add_constraint('requivratio')\n",
    "        self.add_constraint('requivsum')\n",
    "        self.add_constraint('teffratio')\n",
    "\n",
    "        # And flip them\n",
    "        self.flip_constraint('requivratio', solve_for='requiv@primary')\n",
    "        self.flip_constraint('requivsum', solve_for='requiv@secondary')\n",
    "        self.flip_constraint('teffratio', solve_for='teff@secondary@component')\n",
    "        self.flip_constraint('esinw', solve_for='ecc')\n",
    "        self.flip_constraint('ecosw', solve_for='per0')\n",
    "\n",
    "    @staticmethod\n",
    "    def from_bundle(bundle):\n",
    "        pass\n",
    "\n",
    "    def model(self, params, twigs, time, interp=False):\n",
    "        \"\"\"\n",
    "        Our model, takes in an array of parameter values, their corresponding twigs (sue me)\n",
    "        in Phoebe, and a bundle object, and returns the flux at those values.\n",
    "        \"\"\"\n",
    "        # Iterate over pairs of parameter and twig values, assigning them to the bundle\n",
    "        for param, twig in zip(params, twigs):\n",
    "            self[twig] = param\n",
    "        \n",
    "        self.run_compute()\n",
    "        \n",
    "        if interp:\n",
    "            return self['fluxes@latest@model'].interp_value(times=time)\n",
    "        else:\n",
    "            return self['fluxes@latest@model'].get_value()\n",
    "\n",
    "    def lnlike(self, params, twigs, time, flux, flux_err):\n",
    "        try:\n",
    "            model_flux = model(params, twigs, bundle, time)\n",
    "            return -0.5 * np.sum((flux - model_flux)**2 / flux_err**2)\n",
    "        except:\n",
    "            # Here we catch overflows in the model. This is a cheap prior that should be implemented properly\n",
    "            return -np.inf\n",
    "\n",
    "    def sort_flux(time, period, flux):\n",
    "        fold_time = time % period / period\n",
    "        sort = np.argsort(fold_time)\n",
    "        return fold_time[sort], flux[sort]\n"
   ]
  },
  {
   "cell_type": "code",
   "execution_count": 37,
   "metadata": {},
   "outputs": [
    {
     "data": {
      "text/plain": [
       "[<matplotlib.lines.Line2D at 0x1c2593cb50>]"
      ]
     },
     "execution_count": 37,
     "metadata": {},
     "output_type": "execute_result"
    },
    {
     "data": {
      "image/png": "[encoded data removed]",
      "text/plain": [
       "<Figure size 900x600 with 1 Axes>"
      ]
     },
     "metadata": {
      "needs_background": "light"
     },
     "output_type": "display_data"
    }
   ],
   "source": [
    "plt.plot(full_transit_time, flux2)\n",
    "plt.plot(t,y, ',k')"
   ]
  },
  {
   "cell_type": "code",
   "execution_count": 23,
   "metadata": {},
   "outputs": [],
   "source": [
    "def model(param_values):\n",
    "    (incl, q, esinw, ecosw, rsum, rratio, tratio, t1) = param_values\n",
    "    \n",
    "    '''\n",
    "    If some of the values are outside of the physical parameter space,\n",
    "    setting the parameters or running compute will fail, so we need to catch\n",
    "    and penalize those cases. Because some algorithms don't handle nans or infs\n",
    "    we'll just use an arbitrarily large number. (1e12 in this case)\n",
    "    '''\n",
    "    \n",
    "    try:\n",
    "        b['esinw'] = esinw\n",
    "        b['ecosw'] = ecosw\n",
    "        b['incl@binary'] = incl\n",
    "        b['q'] = q\n",
    "        b['requiv@primary'] = b['value@sma@binary']*rsum/(1.+rratio)\n",
    "        b['requiv@secondary'] = b['value@sma@binary']*rsum*rratio/(1.+rratio)\n",
    "        b['teff@primary'] = t1 \n",
    "        b['teff@secondary'] = tratio*b['value@teff@primary']\n",
    "        # b['pblum'] = pblum\n",
    "        # b['l3'] = l3\n",
    "\n",
    "        b.run_compute(irrad_method='none')\n",
    "        fluxes_model = b['fluxes@model'].get_value()#(times=full_transit_time)\n",
    "        return fluxes_model\n",
    "    except:\n",
    "        return np.inf\n",
    "    \n",
    "def chi2(param_values):\n",
    "#     (incl, q,esinw, ecosw, rsum, rratio, tratio, t) = param_values\n",
    "    \n",
    "    '''\n",
    "    If some of the values are outside of the physical parameter space,\n",
    "    setting the parameters or running compute will fail, so we need to catch\n",
    "    and penalize those cases. Because some algorithms don't handle nans or infs\n",
    "    we'll just use an arbitrarily large number. (1e12 in this case)\n",
    "    '''\n",
    "    print(param_values)\n",
    "    fluxes_model = model(param_values)\n",
    "    chi2 = 0.5*np.sum((fluxes_model-b['value@fluxes@full_lc@dataset'])**2 / 1**2 )\n",
    "    return chi2"
   ]
  },
  {
   "cell_type": "code",
   "execution_count": 7,
   "metadata": {},
   "outputs": [],
   "source": [
    "# x0 = [8.70000000e+01, 0.92, 1.58200000e-01, 3.95530000e-01, 6.67547942e-02,\n",
    "#        3.20000000e-01, 8.00000000e-01, 10100]\n",
    "flux = model(x0)"
   ]
  },
  {
   "cell_type": "code",
   "execution_count": 24,
   "metadata": {},
   "outputs": [
    {
     "ename": "ValueError",
     "evalue": "4 results found: ['times@full_lc@phoebe01@latest@lc@model', 'fluxes@full_lc@phoebe01@latest@lc@model', 'color@latest@figure', 'linestyle@latest@figure']",
     "output_type": "error",
     "traceback": [
      "\u001b[0;31m---------------------------------------------------------------------------\u001b[0m",
      "\u001b[0;31mValueError\u001b[0m                                Traceback (most recent call last)",
      "\u001b[0;32m<ipython-input-24-0cef8eac3c7e>\u001b[0m in \u001b[0;36m<module>\u001b[0;34m\u001b[0m\n\u001b[0;32m----> 1\u001b[0;31m \u001b[0mflux\u001b[0m \u001b[0;34m=\u001b[0m  \u001b[0mb\u001b[0m\u001b[0;34m.\u001b[0m\u001b[0mrun_compute\u001b[0m\u001b[0;34m(\u001b[0m\u001b[0mirrad_method\u001b[0m\u001b[0;34m=\u001b[0m\u001b[0;34m'none'\u001b[0m\u001b[0;34m)\u001b[0m\u001b[0;34m.\u001b[0m\u001b[0mget_value\u001b[0m\u001b[0;34m(\u001b[0m\u001b[0;34m)\u001b[0m\u001b[0;34m\u001b[0m\u001b[0;34m\u001b[0m\u001b[0m\n\u001b[0m",
      "\u001b[0;32m~/Dropbox (Sydney Uni)/code/phoebe2/phoebe/parameters/parameters.py\u001b[0m in \u001b[0;36mget_value\u001b[0;34m(self, twig, unit, default, t, **kwargs)\u001b[0m\n\u001b[1;32m   2718\u001b[0m                 \u001b[0;32mreturn\u001b[0m \u001b[0mdefault\u001b[0m\u001b[0;34m\u001b[0m\u001b[0;34m\u001b[0m\u001b[0m\n\u001b[1;32m   2719\u001b[0m \u001b[0;34m\u001b[0m\u001b[0m\n\u001b[0;32m-> 2720\u001b[0;31m         \u001b[0mparam\u001b[0m \u001b[0;34m=\u001b[0m \u001b[0mself\u001b[0m\u001b[0;34m.\u001b[0m\u001b[0mget_parameter\u001b[0m\u001b[0;34m(\u001b[0m\u001b[0mtwig\u001b[0m\u001b[0;34m=\u001b[0m\u001b[0mtwig\u001b[0m\u001b[0;34m,\u001b[0m \u001b[0;34m**\u001b[0m\u001b[0mkwargs\u001b[0m\u001b[0;34m)\u001b[0m\u001b[0;34m\u001b[0m\u001b[0;34m\u001b[0m\u001b[0m\n\u001b[0m\u001b[1;32m   2721\u001b[0m \u001b[0;34m\u001b[0m\u001b[0m\n\u001b[1;32m   2722\u001b[0m         \u001b[0;31m# if hasattr(param, 'default_unit'):\u001b[0m\u001b[0;34m\u001b[0m\u001b[0;34m\u001b[0m\u001b[0;34m\u001b[0m\u001b[0m\n",
      "\u001b[0;32m~/Dropbox (Sydney Uni)/code/phoebe2/phoebe/parameters/parameters.py\u001b[0m in \u001b[0;36mget_parameter\u001b[0;34m(self, twig, **kwargs)\u001b[0m\n\u001b[1;32m   2450\u001b[0m             \u001b[0mmatching\u001b[0m \u001b[0mthe\u001b[0m \u001b[0msearch\u001b[0m\u001b[0;34m.\u001b[0m\u001b[0;34m\u001b[0m\u001b[0;34m\u001b[0m\u001b[0m\n\u001b[1;32m   2451\u001b[0m         \"\"\"\n\u001b[0;32m-> 2452\u001b[0;31m         \u001b[0;32mreturn\u001b[0m \u001b[0mself\u001b[0m\u001b[0;34m.\u001b[0m\u001b[0mget\u001b[0m\u001b[0;34m(\u001b[0m\u001b[0mtwig\u001b[0m\u001b[0;34m=\u001b[0m\u001b[0mtwig\u001b[0m\u001b[0;34m,\u001b[0m \u001b[0;34m**\u001b[0m\u001b[0mkwargs\u001b[0m\u001b[0;34m)\u001b[0m\u001b[0;34m\u001b[0m\u001b[0;34m\u001b[0m\u001b[0m\n\u001b[0m\u001b[1;32m   2453\u001b[0m \u001b[0;34m\u001b[0m\u001b[0m\n\u001b[1;32m   2454\u001b[0m     \u001b[0;32mdef\u001b[0m \u001b[0mget_or_create\u001b[0m\u001b[0;34m(\u001b[0m\u001b[0mself\u001b[0m\u001b[0;34m,\u001b[0m \u001b[0mqualifier\u001b[0m\u001b[0;34m,\u001b[0m \u001b[0mnew_parameter\u001b[0m\u001b[0;34m,\u001b[0m \u001b[0mattach_to_bundle\u001b[0m\u001b[0;34m=\u001b[0m\u001b[0;32mFalse\u001b[0m\u001b[0;34m,\u001b[0m \u001b[0;34m**\u001b[0m\u001b[0mkwargs\u001b[0m\u001b[0;34m)\u001b[0m\u001b[0;34m:\u001b[0m\u001b[0;34m\u001b[0m\u001b[0;34m\u001b[0m\u001b[0m\n",
      "\u001b[0;32m~/Dropbox (Sydney Uni)/code/phoebe2/phoebe/parameters/parameters.py\u001b[0m in \u001b[0;36mget\u001b[0;34m(self, twig, check_visible, check_default, check_advanced, check_single, **kwargs)\u001b[0m\n\u001b[1;32m   2113\u001b[0m         \u001b[0;32melif\u001b[0m \u001b[0mlen\u001b[0m\u001b[0;34m(\u001b[0m\u001b[0mps\u001b[0m\u001b[0;34m)\u001b[0m \u001b[0;34m!=\u001b[0m \u001b[0;36m1\u001b[0m\u001b[0;34m:\u001b[0m\u001b[0;34m\u001b[0m\u001b[0;34m\u001b[0m\u001b[0m\n\u001b[1;32m   2114\u001b[0m             \u001b[0;31m# TODO: custom exception?\u001b[0m\u001b[0;34m\u001b[0m\u001b[0;34m\u001b[0m\u001b[0;34m\u001b[0m\u001b[0m\n\u001b[0;32m-> 2115\u001b[0;31m             \u001b[0;32mraise\u001b[0m \u001b[0mValueError\u001b[0m\u001b[0;34m(\u001b[0m\u001b[0;34m\"{} results found: {}\"\u001b[0m\u001b[0;34m.\u001b[0m\u001b[0mformat\u001b[0m\u001b[0;34m(\u001b[0m\u001b[0mlen\u001b[0m\u001b[0;34m(\u001b[0m\u001b[0mps\u001b[0m\u001b[0;34m)\u001b[0m\u001b[0;34m,\u001b[0m \u001b[0mps\u001b[0m\u001b[0;34m.\u001b[0m\u001b[0mtwigs\u001b[0m\u001b[0;34m)\u001b[0m\u001b[0;34m)\u001b[0m\u001b[0;34m\u001b[0m\u001b[0;34m\u001b[0m\u001b[0m\n\u001b[0m\u001b[1;32m   2116\u001b[0m         \u001b[0;32melse\u001b[0m\u001b[0;34m:\u001b[0m\u001b[0;34m\u001b[0m\u001b[0;34m\u001b[0m\u001b[0m\n\u001b[1;32m   2117\u001b[0m             \u001b[0;31m# then only 1 item, so return the parameter\u001b[0m\u001b[0;34m\u001b[0m\u001b[0;34m\u001b[0m\u001b[0;34m\u001b[0m\u001b[0m\n",
      "\u001b[0;31mValueError\u001b[0m: 4 results found: ['times@full_lc@phoebe01@latest@lc@model', 'fluxes@full_lc@phoebe01@latest@lc@model', 'color@latest@figure', 'linestyle@latest@figure']"
     ]
    }
   ],
   "source": [
    "flux =  b.run_compute(irrad_method='none').get_value()"
   ]
  },
  {
   "cell_type": "code",
   "execution_count": 8,
   "metadata": {},
   "outputs": [
    {
     "data": {
      "text/plain": [
       "[<matplotlib.lines.Line2D at 0x1c1c5f67d0>]"
      ]
     },
     "execution_count": 8,
     "metadata": {},
     "output_type": "execute_result"
    },
    {
     "data": {
      "image/png": "[encoded data removed]",
      "text/plain": [
       "<Figure size 432x288 with 1 Axes>"
      ]
     },
     "metadata": {
      "needs_background": "light"
     },
     "output_type": "display_data"
    }
   ],
   "source": [
    "%matplotlib inline\n",
    "plt.plot(full_transit_time, full_transit_flux)\n",
    "plt.plot(full_transit_time, flux, c='r')\n"
   ]
  },
  {
   "cell_type": "code",
   "execution_count": 14,
   "metadata": {},
   "outputs": [
    {
     "data": {
      "text/plain": [
       "<Parameter: requiv=0.26803061307575754 solRad | keys: description, value, quantity, default_unit, limits, visible_if, copy_for, advanced>"
      ]
     },
     "execution_count": 14,
     "metadata": {},
     "output_type": "execute_result"
    }
   ],
   "source": [
    "b['requiv@primary']"
   ]
  },
  {
   "cell_type": "code",
   "execution_count": 10,
   "metadata": {},
   "outputs": [
    {
     "data": {
      "text/plain": [
       "(<Parameter: requiv=0.26803061307575754 solRad | keys: description, value, quantity, default_unit, limits, visible_if, copy_for, advanced>,\n",
       " <Parameter: requiv=0.08576979618424241 solRad | keys: description, value, quantity, default_unit, limits, visible_if, copy_for, advanced>)"
      ]
     },
     "execution_count": 10,
     "metadata": {},
     "output_type": "execute_result"
    }
   ],
   "source": [
    "b['requiv@primary'], b['requiv@secondary']"
   ]
  },
  {
   "cell_type": "code",
   "execution_count": 62,
   "metadata": {},
   "outputs": [
    {
     "name": "stdout",
     "output_type": "stream",
     "text": [
      "[8.70000000e+01 9.20000000e-01 1.58200000e-01 3.95530000e-01\n",
      " 6.67547942e-02 3.20000000e-01 8.00000000e-01 1.01000000e+04]\n",
      "[9.13500000e+01 9.20000000e-01 1.58200000e-01 3.95530000e-01\n",
      " 6.67547942e-02 3.20000000e-01 8.00000000e-01 1.01000000e+04]\n",
      "[8.70000000e+01 9.66000000e-01 1.58200000e-01 3.95530000e-01\n",
      " 6.67547942e-02 3.20000000e-01 8.00000000e-01 1.01000000e+04]\n",
      "[8.70000000e+01 9.20000000e-01 1.66110000e-01 3.95530000e-01\n",
      " 6.67547942e-02 3.20000000e-01 8.00000000e-01 1.01000000e+04]\n",
      "[8.70000000e+01 9.20000000e-01 1.58200000e-01 4.15306500e-01\n",
      " 6.67547942e-02 3.20000000e-01 8.00000000e-01 1.01000000e+04]\n",
      "[8.70000000e+01 9.20000000e-01 1.58200000e-01 3.95530000e-01\n",
      " 7.00925339e-02 3.20000000e-01 8.00000000e-01 1.01000000e+04]\n",
      "[8.70000000e+01 9.20000000e-01 1.58200000e-01 3.95530000e-01\n",
      " 6.67547942e-02 3.36000000e-01 8.00000000e-01 1.01000000e+04]\n",
      "[8.70000000e+01 9.20000000e-01 1.58200000e-01 3.95530000e-01\n",
      " 6.67547942e-02 3.20000000e-01 8.40000000e-01 1.01000000e+04]\n",
      "[8.70000000e+01 9.20000000e-01 1.58200000e-01 3.95530000e-01\n",
      " 6.67547942e-02 3.20000000e-01 8.00000000e-01 1.06050000e+04]\n",
      "[8.26500000e+01 9.31500000e-01 1.60177500e-01 4.00474125e-01\n",
      " 6.75892291e-02 3.24000000e-01 8.10000000e-01 1.02262500e+04]\n",
      "[8.91750000e+01 9.22875000e-01 1.58694375e-01 3.96766031e-01\n",
      " 6.69634029e-02 3.21000000e-01 8.02500000e-01 1.01315625e+04]\n",
      "[8.70000000e+01 9.43000000e-01 1.58200000e-01 3.95530000e-01\n",
      " 6.67547942e-02 3.20000000e-01 8.00000000e-01 1.01000000e+04]\n",
      "[8.70000000e+01 9.20000000e-01 1.62155000e-01 3.95530000e-01\n",
      " 6.67547942e-02 3.20000000e-01 8.00000000e-01 1.01000000e+04]\n",
      "[8.70000000e+01 9.20000000e-01 1.58200000e-01 3.95530000e-01\n",
      " 6.67547942e-02 3.20000000e-01 8.00000000e-01 1.03525000e+04]\n",
      "[8.70000000e+01 9.20000000e-01 1.58200000e-01 3.95530000e-01\n",
      " 6.67547942e-02 3.28000000e-01 8.00000000e-01 1.01000000e+04]\n",
      "[8.70000000e+01 9.20000000e-01 1.58200000e-01 3.95530000e-01\n",
      " 6.67547942e-02 3.20000000e-01 8.20000000e-01 1.01000000e+04]\n",
      "[8.70000000e+01 9.20000000e-01 1.58200000e-01 3.95530000e-01\n",
      " 6.84236641e-02 3.20000000e-01 8.00000000e-01 1.01000000e+04]\n",
      "[8.70000000e+01 9.20000000e-01 1.58200000e-01 4.05418250e-01\n",
      " 6.67547942e-02 3.20000000e-01 8.00000000e-01 1.01000000e+04]\n",
      "[8.91750000e+01 9.20000000e-01 1.58200000e-01 3.95530000e-01\n",
      " 6.67547942e-02 3.20000000e-01 8.00000000e-01 1.01000000e+04]\n",
      "[8.48250000e+01 9.25750000e-01 1.59188750e-01 3.98002062e-01\n",
      " 6.71720117e-02 3.22000000e-01 8.05000000e-01 1.01631250e+04]\n",
      "[8.80875000e+01 9.21437500e-01 1.58447188e-01 3.96148016e-01\n",
      " 6.68590986e-02 3.20500000e-01 8.01250000e-01 1.01157812e+04]\n",
      "[8.59125000e+01 9.24312500e-01 1.58941562e-01 3.97384047e-01\n",
      " 6.70677073e-02 3.21500000e-01 8.03750000e-01 1.01473438e+04]\n",
      "[8.64562500e+01 9.23593750e-01 1.58817969e-01 3.97075039e-01\n",
      " 6.70155551e-02 3.21250000e-01 8.03125000e-01 1.01394531e+04]\n",
      "[8.68640625e+01 9.26648438e-01 1.59343242e-01 3.86028010e-01\n",
      " 6.72372019e-02 3.22312500e-01 8.05781250e-01 1.01729883e+04]\n",
      "[8.75097656e+01 9.23818359e-01 1.58856592e-01 3.91609463e-01\n",
      " 6.70318527e-02 3.21328125e-01 8.03320313e-01 1.01419189e+04]\n",
      "[8.67196289e+01 9.23649902e-01 1.58827625e-01 3.95708645e-01\n",
      " 6.70196295e-02 3.21269531e-01 8.03173828e-01 1.01400696e+04]\n",
      "[8.70658447e+01 9.20014038e-01 1.58202414e-01 4.05076652e-01\n",
      " 6.67558128e-02 3.20004883e-01 8.00012207e-01 1.01001541e+04]\n",
      "[8.69145081e+01 9.24989838e-01 1.59058035e-01 3.90790170e-01\n",
      " 6.71168546e-02 3.21735596e-01 8.04338989e-01 1.01547797e+04]\n",
      "[8.69085342e+01 9.27909935e-01 1.59560165e-01 3.94389704e-01\n",
      " 6.52426483e-02 3.22751282e-01 8.06878204e-01 1.01868373e+04]\n",
      "[8.68628014e+01 9.31864902e-01 1.60240247e-01 3.93819556e-01\n",
      " 6.36521404e-02 3.24126923e-01 8.10317307e-01 1.02302560e+04]\n",
      "[8.69925327e+01 9.23650122e-01 1.58827662e-01 4.00029417e-01\n",
      " 6.60809061e-02 3.21269608e-01 8.03174019e-01 1.01400720e+04]\n",
      "[8.69340142e+01 9.24654909e-01 1.59000442e-01 3.93099982e-01\n",
      " 6.68578675e-02 3.21619099e-01 8.04047747e-01 1.01511028e+04]\n",
      "[8.68905443e+01 9.29803686e-01 1.59885808e-01 3.94682083e-01\n",
      " 6.64687349e-02 3.23409978e-01 7.83524945e-01 1.02076274e+04]\n",
      "[8.68358165e+01 9.34705530e-01 1.60728712e-01 3.94258124e-01\n",
      " 6.63257052e-02 3.25114967e-01 7.65287417e-01 1.02614411e+04]\n",
      "[8.68631804e+01 9.32254608e-01 1.60307260e-01 3.94470103e-01\n",
      " 6.63972200e-02 3.14262472e-01 7.99406181e-01 1.02345343e+04]\n",
      "[8.68289755e+01 9.35318260e-01 1.60834075e-01 3.94205129e-01\n",
      " 6.63078265e-02 3.20828090e-01 7.99257726e-01 9.95254286e+03]\n",
      "[8.67862194e+01 9.39147825e-01 1.56548843e-01 3.93873912e-01\n",
      " 6.61960846e-02 3.21035113e-01 7.99072158e-01 1.01681786e+04]\n",
      "[8.70832381e+01 9.39372404e-01 1.59306524e-01 3.93236583e-01\n",
      " 6.57253630e-02 3.19706977e-01 7.94872912e-01 1.01351362e+04]\n",
      "[8.68105312e+01 9.27580528e-01 1.58947349e-01 3.95090630e-01\n",
      " 6.66960629e-02 3.20878893e-01 8.01098599e-01 1.01388362e+04]\n",
      "[8.67554999e+01 9.16167438e-01 1.60120985e-01 3.93305386e-01\n",
      " 6.59755155e-02 3.21196232e-01 7.98321390e-01 1.01849149e+04]\n",
      "[8.69388750e+01 9.36291859e-01 1.58680246e-01 3.94973846e-01\n",
      " 6.65599745e-02 3.20299058e-01 7.99580347e-01 1.01212287e+04]\n",
      "[8.67402186e+01 9.43240403e-01 1.60241047e-01 3.93166347e-01\n",
      " 6.59268106e-02 3.21270996e-01 7.98216477e-01 1.01902221e+04]\n",
      "[8.69350546e+01 9.25810101e-01 1.58710262e-01 3.94939087e-01\n",
      " 6.65477983e-02 3.20317749e-01 7.99554119e-01 1.01225555e+04]\n",
      "[8.69912080e+01 9.20758146e-01 1.62432558e-01 3.95088729e-01\n",
      " 6.65734487e-02 3.20056542e-01 7.99264809e-01 1.01106377e+04]\n",
      "[8.69399608e+01 9.25355566e-01 1.60961630e-01 3.94785025e-01\n",
      " 6.64791076e-02 3.20301185e-01 7.99216647e-01 1.01250229e+04]\n",
      "[8.68448998e+01 9.35426227e-01 1.60471257e-01 3.96283920e-01\n",
      " 6.58169758e-02 3.19143078e-01 7.93081446e-01 1.01211935e+04]\n",
      "[8.69117356e+01 9.27347738e-01 1.59368146e-01 3.93895966e-01\n",
      " 6.65976446e-02 3.21000094e-01 8.01306171e-01 1.01436255e+04]\n",
      "[8.69936839e+01 9.32442411e-01 1.60629548e-01 3.93994606e-01\n",
      " 6.59541758e-02 3.19913584e-01 7.96082486e-01 1.01346574e+04]\n",
      "[8.68563194e+01 9.28795998e-01 1.59367899e-01 3.94816624e-01\n",
      " 6.65105911e-02 3.20637566e-01 7.99844571e-01 1.01377915e+04]\n",
      "[8.69820756e+01 9.23074113e-01 1.58376279e-01 3.95032980e-01\n",
      " 6.63931033e-02 3.19916755e-01 7.98070070e-01 1.03672630e+04]\n",
      "[8.68672505e+01 9.32257223e-01 1.60219626e-01 3.94412092e-01\n",
      " 6.63291457e-02 3.20600257e-01 7.98960812e-01 1.00562229e+04]\n",
      "[8.69488882e+01 9.26138419e-01 1.58881185e-01 3.94753503e-01\n",
      " 6.62866912e-02 3.28066819e-01 7.97810273e-01 1.00406937e+04]\n",
      "[8.68756970e+01 9.19562807e-01 1.60558434e-01 3.94194675e-01\n",
      " 6.60556159e-02 3.23972174e-01 7.97193588e-01 1.01338655e+04]\n",
      "[8.68473859e+01 9.28072345e-01 1.60776807e-01 3.94275310e-01\n",
      " 6.62711304e-02 3.15180751e-01 7.98809491e-01 1.02376935e+04]\n",
      "[8.69235127e+01 9.26621900e-01 1.59355091e-01 3.94633955e-01\n",
      " 6.62828010e-02 3.24845302e-01 7.98060078e-01 1.00899436e+04]\n",
      "[8.68583340e+01 9.28603613e-01 1.61108937e-01 3.94013444e-01\n",
      " 6.59437740e-02 3.24061710e-01 7.96692135e-01 1.01476787e+04]\n",
      "[8.68330211e+01 9.29870160e-01 1.58894397e-01 3.93974611e-01\n",
      " 6.58786312e-02 3.25018406e-01 7.96398480e-01 1.01508752e+04]\n",
      "[8.69132259e+01 9.26484214e-01 1.60444821e-01 3.94582421e-01\n",
      " 6.63289885e-02 3.21480490e-01 7.98512105e-01 1.01314860e+04]\n",
      "[8.68656206e+01 9.26959361e-01 1.60517025e-01 3.94418111e-01\n",
      " 6.73866756e-02 3.22250611e-01 7.86645397e-01 1.00752229e+04]\n",
      "[8.68508905e+01 9.27424463e-01 1.60996265e-01 3.95042385e-01\n",
      " 6.62289371e-02 3.24314429e-01 7.88552236e-01 1.01013341e+04]\n",
      "[8.69024312e+01 9.25873800e-01 1.59227305e-01 3.95182142e-01\n",
      " 6.69540985e-02 3.21315991e-01 7.91131298e-01 1.00856948e+04]\n",
      "[8.68693583e+01 9.27921160e-01 1.60638529e-01 3.94305619e-01\n",
      " 6.61963551e-02 3.23375281e-01 7.95301926e-01 1.01321827e+04]\n",
      "[8.69077056e+01 9.25462705e-01 1.61286001e-01 3.94251211e-01\n",
      " 6.63087223e-02 3.25424565e-01 7.86843201e-01 1.00941798e+04]\n",
      "[8.69333987e+01 9.23796059e-01 1.62245051e-01 3.93968505e-01\n",
      " 6.62077880e-02 3.27818064e-01 7.80342516e-01 1.00723739e+04]\n",
      "[8.69273382e+01 9.26343802e-01 1.59730069e-01 3.93827657e-01\n",
      " 6.66103227e-02 3.22025236e-01 7.97708277e-01 1.01288486e+04]\n",
      "[8.68700024e+01 9.27154297e-01 1.60679716e-01 3.94738703e-01\n",
      " 6.63242835e-02 3.23742130e-01 7.90841246e-01 1.01082127e+04]\n",
      "[8.69116662e+01 9.20235310e-01 1.60621730e-01 3.94539602e-01\n",
      " 6.65088985e-02 3.26524876e-01 7.85269809e-01 1.01869573e+04]\n",
      "[8.68524424e+01 9.24273985e-01 1.61802925e-01 3.94294151e-01\n",
      " 6.66117676e-02 3.22699724e-01 7.82972976e-01 1.01774900e+04]\n",
      "[8.68475333e+01 9.23859113e-01 1.61052721e-01 3.94273617e-01\n",
      " 6.66362748e-02 3.26369345e-01 7.78636167e-01 1.01474486e+04]\n",
      "[8.68906168e+01 9.22608906e-01 1.61114440e-01 3.94401804e-01\n",
      " 6.53909875e-02 3.26628907e-01 7.88500568e-01 1.02217681e+04]\n",
      "[8.68718697e+01 9.25871747e-01 1.60666379e-01 3.94414034e-01\n",
      " 6.68877536e-02 3.23345185e-01 7.87109190e-01 1.01118592e+04]\n",
      "[8.68346221e+01 9.30742066e-01 1.61020898e-01 3.94248921e-01\n",
      " 6.63634784e-02 3.21559719e-01 7.90336001e-01 1.00912592e+04]\n",
      "[8.68924052e+01 9.22861999e-01 1.60721522e-01 3.94466932e-01\n",
      " 6.64725435e-02 3.25283587e-01 7.86536357e-01 1.01630328e+04]\n",
      "[8.68747683e+01 9.32239366e-01 1.61124967e-01 3.94661913e-01\n",
      " 6.69209929e-02 3.24440274e-01 7.75747914e-01 1.01516428e+04]\n",
      "[8.68824595e+01 9.24960565e-01 1.61166480e-01 3.94640043e-01\n",
      " 6.69614132e-02 3.25303416e-01 7.72751073e-01 1.01581906e+04]\n",
      "[8.68791842e+01 9.25700714e-01 1.61034493e-01 3.94556437e-01\n",
      " 6.67701487e-02 3.24821382e-01 7.78388786e-01 1.01516886e+04]\n",
      "[8.68841108e+01 9.25364031e-01 1.61213988e-01 3.94161392e-01\n",
      " 6.69449511e-02 3.25206380e-01 7.74098638e-01 1.01930295e+04]\n",
      "[8.68735295e+01 9.26706731e-01 1.60813284e-01 3.94594375e-01\n",
      " 6.64794504e-02 3.24108193e-01 7.86655594e-01 1.01294169e+04]\n",
      "[8.68790352e+01 9.18895804e-01 1.60690816e-01 3.94221297e-01\n",
      " 6.62378560e-02 3.24425215e-01 7.91918890e-01 1.01440430e+04]\n",
      "[8.69080093e+01 9.25516640e-01 1.59734831e-01 3.94570845e-01\n",
      " 6.64536035e-02 3.26597139e-01 7.86930306e-01 1.01098341e+04]\n",
      "[8.68663342e+01 9.24584649e-01 1.61285902e-01 3.94363325e-01\n",
      " 6.65722266e-02 3.23674077e-01 7.83962309e-01 1.01605760e+04]\n"
     ]
    }
   ],
   "source": [
    "from scipy.optimize import minimize\n",
    "\n",
    "# Run the minimizer\n",
    "res_nms = minimize(chi2, x0,\n",
    "                   method='Nelder-Mead', tol=100\n",
    "                  )"
   ]
  },
  {
   "cell_type": "code",
   "execution_count": 63,
   "metadata": {},
   "outputs": [
    {
     "data": {
      "text/plain": [
       "[<matplotlib.lines.Line2D at 0x1c276c2f50>]"
      ]
     },
     "execution_count": 63,
     "metadata": {},
     "output_type": "execute_result"
    },
    {
     "data": {
      "image/png": "[encoded data removed]",
      "text/plain": [
       "<Figure size 720x504 with 1 Axes>"
      ]
     },
     "metadata": {
      "needs_background": "light"
     },
     "output_type": "display_data"
    }
   ],
   "source": [
    "plt.figure(figsize=[10,7])\n",
    "\n",
    "x0 = res_nms.x\n",
    "flux = model(x0)\n",
    "\n",
    "plt.plot(full_transit_time, full_transit_flux)\n",
    "plt.plot(full_transit_time, flux, c='r')"
   ]
  },
  {
   "cell_type": "code",
   "execution_count": 64,
   "metadata": {},
   "outputs": [
    {
     "data": {
      "text/plain": [
       " final_simplex: (array([[8.68663342e+01, 9.24584649e-01, 1.61285902e-01, 3.94363325e-01,\n",
       "        6.65722266e-02, 3.23674077e-01, 7.83962309e-01, 1.01605760e+04],\n",
       "       [8.69077056e+01, 9.25462705e-01, 1.61286001e-01, 3.94251211e-01,\n",
       "        6.63087223e-02, 3.25424565e-01, 7.86843201e-01, 1.00941798e+04],\n",
       "       [8.68475333e+01, 9.23859113e-01, 1.61052721e-01, 3.94273617e-01,\n",
       "        6.66362748e-02, 3.26369345e-01, 7.78636167e-01, 1.01474486e+04],\n",
       "       [8.68735295e+01, 9.26706731e-01, 1.60813284e-01, 3.94594375e-01,\n",
       "        6.64794504e-02, 3.24108193e-01, 7.86655594e-01, 1.01294169e+04],\n",
       "       [8.68924052e+01, 9.22861999e-01, 1.60721522e-01, 3.94466932e-01,\n",
       "        6.64725435e-02, 3.25283587e-01, 7.86536357e-01, 1.01630328e+04],\n",
       "       [8.68791842e+01, 9.25700714e-01, 1.61034493e-01, 3.94556437e-01,\n",
       "        6.67701487e-02, 3.24821382e-01, 7.78388786e-01, 1.01516886e+04],\n",
       "       [8.68905443e+01, 9.29803686e-01, 1.59885808e-01, 3.94682083e-01,\n",
       "        6.64687349e-02, 3.23409978e-01, 7.83524945e-01, 1.02076274e+04],\n",
       "       [8.68790352e+01, 9.18895804e-01, 1.60690816e-01, 3.94221297e-01,\n",
       "        6.62378560e-02, 3.24425215e-01, 7.91918890e-01, 1.01440430e+04],\n",
       "       [8.68718697e+01, 9.25871747e-01, 1.60666379e-01, 3.94414034e-01,\n",
       "        6.68877536e-02, 3.23345185e-01, 7.87109190e-01, 1.01118592e+04]]), array([0.00032894, 0.00032904, 0.00032949, 0.00032949, 0.00033063,\n",
       "       0.00033177, 0.00033388, 0.00033411, 0.00033583]))\n",
       "           fun: 0.0003289395977144897\n",
       "       message: 'Optimization terminated successfully.'\n",
       "          nfev: 81\n",
       "           nit: 40\n",
       "        status: 0\n",
       "       success: True\n",
       "             x: array([8.68663342e+01, 9.24584649e-01, 1.61285902e-01, 3.94363325e-01,\n",
       "       6.65722266e-02, 3.23674077e-01, 7.83962309e-01, 1.01605760e+04])"
      ]
     },
     "execution_count": 64,
     "metadata": {},
     "output_type": "execute_result"
    }
   ],
   "source": [
    "res_nms"
   ]
  },
  {
   "cell_type": "code",
   "execution_count": 16,
   "metadata": {},
   "outputs": [
    {
     "data": {
      "text/plain": [
       "(0.05029351843988708, 0.01627870816011293)"
      ]
     },
     "execution_count": 16,
     "metadata": {},
     "output_type": "execute_result"
    }
   ],
   "source": [
    "rsum, rratio = 6.65722266e-02, 3.23674077e-01\n",
    "\n",
    "rsum/(1.+rratio), rsum*rratio/(1.+rratio)"
   ]
  },
  {
   "cell_type": "code",
   "execution_count": 17,
   "metadata": {},
   "outputs": [
    {
     "data": {
      "text/plain": [
       "2.1626212929151443"
      ]
     },
     "execution_count": 17,
     "metadata": {},
     "output_type": "execute_result"
    }
   ],
   "source": [
    "0.05029351843988708*43"
   ]
  },
  {
   "cell_type": "code",
   "execution_count": 70,
   "metadata": {},
   "outputs": [
    {
     "data": {
      "text/plain": [
       "<Parameter: requiv=0.08627715329216967 solRad | keys: description, value, quantity, default_unit, limits, visible_if, copy_for, advanced>"
      ]
     },
     "execution_count": 70,
     "metadata": {},
     "output_type": "execute_result"
    }
   ],
   "source": [
    "b['requiv@secondary']"
   ]
  },
  {
   "cell_type": "code",
   "execution_count": 65,
   "metadata": {},
   "outputs": [
    {
     "data": {
      "text/plain": [
       "<Parameter: incl=86.86633416388645 deg | keys: description, value, quantity, default_unit, limits, visible_if, copy_for, advanced>"
      ]
     },
     "execution_count": 65,
     "metadata": {},
     "output_type": "execute_result"
    }
   ],
   "source": [
    "    (incl, q, esinw, ecosw, rsum, rratio, tratio, t1) = param_values\n",
    "\n"
   ]
  },
  {
   "cell_type": "code",
   "execution_count": 40,
   "metadata": {},
   "outputs": [
    {
     "data": {
      "text/plain": [
       "(0.26803061307575754, 0.08576979618424241)"
      ]
     },
     "execution_count": 40,
     "metadata": {},
     "output_type": "execute_result"
    }
   ],
   "source": [
    "rsum, rratio = 6.67547942e-02, 3.20000000e-01\n",
    "\n",
    "b['value@sma@binary']*rsum/(1.+rratio),b['value@sma@binary']*rsum*rratio/(1.+rratio)"
   ]
  },
  {
   "cell_type": "code",
   "execution_count": 3,
   "metadata": {},
   "outputs": [
    {
     "data": {
      "text/plain": [
       "14.993643683786459"
      ]
     },
     "execution_count": 3,
     "metadata": {},
     "output_type": "execute_result"
    }
   ],
   "source": [
    "0.26803061307575754 * 46.293/np.sin(np.degrees(87))"
   ]
  },
  {
   "cell_type": "code",
   "execution_count": 14,
   "metadata": {},
   "outputs": [],
   "source": [
    "phoebe.mpi_off()"
   ]
  },
  {
   "cell_type": "code",
   "execution_count": 18,
   "metadata": {},
   "outputs": [],
   "source": [
    "def model(params, x):\n",
    "    (incl, q, esinw, ecosw, rsum, rratio, tratio) = params\n",
    "    b['esinw'] = esinw\n",
    "    b['ecosw'] = ecosw\n",
    "    b['incl@binary'] = incl\n",
    "    b['q'] = q\n",
    "    b['requiv@primary'] = b['value@sma@binary']*rsum/(1.+rratio)\n",
    "    b['requiv@secondary'] = b['value@sma@binary']*rsum*rratio/(1.+rratio)\n",
    "    # b['teff@primary'] = teff1 \n",
    "    b['teff@secondary'] = tratio*b['value@teff@primary']\n",
    "    # b['pblum'] = pblum\n",
    "    # b['l3'] = l3\n",
    "\n",
    "    b.run_compute(irrad_method='none')\n",
    "    fluxes_model = b['fluxes@model'].get_value()#interp_value(times=lcdata[:,0])\n",
    "    return fluxes_model\n",
    "\n",
    "def lnprior(params):\n",
    "    (incl, q, esinw, ecosw, rsum, rratio, tratio) = params\n",
    "    if (85 < incl < 90) & (q < 1):\n",
    "        return 0.\n",
    "    else:\n",
    "        return -np.inf\n",
    "    \n",
    "def lnlike(params, x, y, yerr):\n",
    "    lp = lnprior(params)\n",
    "    if not np.isfinite(lp):\n",
    "        return -np.inf\n",
    "    try:\n",
    "        model_flux = model(params, x)\n",
    "        return -0.5 * np.sum((y - model_flux)**2 / 1**2)\n",
    "    except:\n",
    "        return -np.inf"
   ]
  },
  {
   "cell_type": "code",
   "execution_count": 21,
   "metadata": {},
   "outputs": [
    {
     "data": {
      "text/plain": [
       "5.3"
      ]
     },
     "execution_count": 21,
     "metadata": {},
     "output_type": "execute_result"
    }
   ],
   "source": [
    "b['value@sma@binary']"
   ]
  },
  {
   "cell_type": "code",
   "execution_count": 19,
   "metadata": {},
   "outputs": [],
   "source": [
    "params = [8.70000000e+01, 9.20000000e-01, 1.58200000e-01, 3.95530000e-01,\n",
    "       6.67547942e-02, 3.20000000e-01, 8.40000000e-01]\n",
    "#plt.plot(full_transit_time, model(params, full_transit_time))\n",
    "cc = model(params, full_transit_time)"
   ]
  },
  {
   "cell_type": "code",
   "execution_count": 20,
   "metadata": {},
   "outputs": [
    {
     "data": {
      "text/plain": [
       "Text(0, 0.5, 'Flux')"
      ]
     },
     "execution_count": 20,
     "metadata": {},
     "output_type": "execute_result"
    },
    {
     "data": {
      "image/png": "[encoded data removed]",
      "text/plain": [
       "<Figure size 720x504 with 1 Axes>"
      ]
     },
     "metadata": {
      "needs_background": "light"
     },
     "output_type": "display_data"
    }
   ],
   "source": [
    "plt.figure(figsize=[10,7])\n",
    "\n",
    "plt.plot(full_transit_time, cc)\n",
    "plt.plot(full_transit_time, full_transit_flux, '.k')\n",
    "plt.xlabel('Time (TJD)')\n",
    "plt.ylabel('Flux')"
   ]
  },
  {
   "cell_type": "code",
   "execution_count": 40,
   "metadata": {},
   "outputs": [
    {
     "data": {
      "text/plain": [
       "43.77924092816318"
      ]
     },
     "execution_count": 40,
     "metadata": {},
     "output_type": "execute_result"
    }
   ],
   "source": [
    "43.719243 / np.sin(np.radians(87))"
   ]
  },
  {
   "cell_type": "code",
   "execution_count": 50,
   "metadata": {},
   "outputs": [],
   "source": []
  },
  {
   "cell_type": "code",
   "execution_count": 45,
   "metadata": {},
   "outputs": [
    {
     "data": {
      "text/plain": [
       "3.7549365715093996"
      ]
     },
     "execution_count": 45,
     "metadata": {},
     "output_type": "execute_result"
    }
   ],
   "source": [
    "b['requiv@secondary'].value * 43.719243 / np.sin(np.radians(87))"
   ]
  },
  {
   "cell_type": "code",
   "execution_count": null,
   "metadata": {},
   "outputs": [
    {
     "name": "stderr",
     "output_type": "stream",
     "text": [
      "0it [00:00, ?it/s]"
     ]
    },
    {
     "name": "stdout",
     "output_type": "stream",
     "text": [
      "[89.70254891  1.86457736  0.10372944  0.11880846  0.09510577  0.22358796\n",
      "  0.62847734] <function chi2 at 0x7f473155c1e0>\n",
      "[8.72530798e+01 1.33250928e+00 1.64703475e-01 4.54957720e-01\n",
      " 1.86906557e-02 6.84852818e-01 6.83322526e-01] <function chi2 at 0x7f473155c1e0>\n",
      "[8.78267090e+01 1.49531261e+00 5.98870861e-02 1.79188987e-01\n",
      " 8.47906830e-02 3.47039985e-01 6.21815259e-01] <function chi2 at 0x7f473155c1e0>\n",
      "[8.13645756e+01 1.04036335e+00 2.44651779e-01 1.14598333e-01\n",
      " 1.18715379e-02 9.38622172e-01 8.46476860e-01] <function chi2 at 0x7f473155c1e0>\n",
      "[8.04878281e+01 5.16515459e-01 2.98548351e-01 2.92374099e-01\n",
      " 7.14738049e-02 1.65749296e-01 5.83355771e-01] <function chi2 at 0x7f473155c1e0>\n",
      "[8.54469056e+01 1.06482814e+00 1.35946288e-01 4.86683684e-02\n",
      " 8.70965045e-02 8.24480763e-01 9.50348053e-01] <function chi2 at 0x7f473155c1e0>\n",
      "[8.56389279e+01 9.94728237e-01 1.98082675e-01 1.28736224e-01\n",
      " 6.15114227e-02 5.81005408e-01 7.29806237e-01] <function chi2 at 0x7f473155c1e0>\n",
      "[8.49448036e+01 1.55106431e+00 5.08094585e-02 2.86582623e-01\n",
      " 9.27152953e-02 5.57111423e-01 9.99517304e-01] <function chi2 at 0x7f473155c1e0>\n",
      "[8.77763517e+01 1.96262608e+00 2.12707144e-01 9.78241516e-02\n",
      " 6.69985390e-02 7.97404620e-01 6.94248385e-01] <function chi2 at 0x7f473155c1e0>\n",
      "[8.94679028e+01 1.37476480e+00 1.30527637e-01 1.46619792e-01\n",
      " 4.49844250e-02 4.29066592e-01 9.93336859e-01] <function chi2 at 0x7f473155c1e0>\n",
      "[8.04727316e+01 1.38119424e+00 2.29855586e-01 1.45842910e-01\n",
      " 5.67343014e-02 5.34254138e-01 8.74928989e-01] <function chi2 at 0x7f473155c1e0>\n",
      "[8.66683525e+01 1.30979029e+00 1.25936662e-01 3.47900104e-01\n",
      " 3.27629314e-02 3.95839249e-01 8.23715800e-01] <function chi2 at 0x7f473155c1e0>\n",
      "[8.55467425e+01 5.48770909e-01 1.62907513e-01 1.34774171e-01\n",
      " 4.30568985e-02 7.41479400e-01 7.59701202e-01] <function chi2 at 0x7f473155c1e0>\n",
      "[8.00619228e+01 1.36992286e+00 1.07654511e-01 3.40433820e-02\n",
      " 1.57179552e-02 3.35290224e-01 7.59312325e-01] <function chi2 at 0x7f473155c1e0>\n",
      "[8.28782393e+01 5.65376901e-01 2.76435729e-01 1.13931660e-01\n",
      " 1.76603531e-02 6.24390368e-01 7.75857143e-01] <function chi2 at 0x7f473155c1e0>\n",
      "[8.64686859e+01 1.60568380e+00 2.53029120e-01 4.76122844e-01\n",
      " 8.50872778e-02 8.40592670e-01 6.63422433e-01] <function chi2 at 0x7f473155c1e0>\n",
      "[8.02939030e+01 8.46973184e-01 1.34657476e-01 3.95287180e-01\n",
      " 3.61897459e-02 7.67243611e-01 6.30689730e-01] <function chi2 at 0x7f473155c1e0>\n",
      "[8.34371830e+01 8.85530543e-01 5.45338542e-02 2.67078505e-01\n",
      " 1.44139116e-02 7.79259355e-01 9.34443975e-01] <function chi2 at 0x7f473155c1e0>\n",
      "[8.23595796e+01 1.64910585e+00 2.44100791e-01 3.19268775e-01\n",
      " 5.69052414e-02 9.40343125e-01 8.67561144e-01] <function chi2 at 0x7f473155c1e0>\n",
      "[8.29829841e+01 1.98238970e+00 1.35142517e-01 4.51693183e-01\n",
      " 6.77829014e-02 1.82781779e-01 8.13511337e-01] <function chi2 at 0x7f473155c1e0>\n",
      "[87.3986308   1.3089596   0.21902002  0.19917218  0.09211113  0.7451106\n",
      "  0.72542401] <function chi2 at 0x7f473155c1e0>\n",
      "[8.00775736e+01 1.30082153e+00 1.66300200e-01 4.31391952e-01\n",
      " 3.23077557e-02 2.84701331e-01 8.08986114e-01] <function chi2 at 0x7f473155c1e0>\n",
      "[8.06959366e+01 1.66963124e+00 5.55202435e-02 3.35806752e-01\n",
      " 5.17513942e-02 8.83687426e-01 9.94489248e-01] <function chi2 at 0x7f473155c1e0>\n",
      "[8.36670536e+01 1.96266322e+00 2.04519987e-01 3.86389653e-01\n",
      " 3.48508569e-02 9.84279706e-01 8.08449125e-01] <function chi2 at 0x7f473155c1e0>\n",
      "[8.02439032e+01 1.97073964e+00 1.75586768e-01 4.17423510e-01\n",
      " 7.03369336e-02 3.71764932e-01 6.13834212e-01] <function chi2 at 0x7f473155c1e0>\n",
      "[8.74312347e+01 1.58359449e+00 1.62049977e-01 1.88892726e-01\n",
      " 1.59905518e-02 9.35189851e-01 6.15423956e-01] <function chi2 at 0x7f473155c1e0>\n",
      "[87.24344534  1.32141386  0.11668143  0.08727921  0.09664873  0.58955002\n",
      "  0.82020987] <function chi2 at 0x7f473155c1e0>\n",
      "[8.81150124e+01 5.35717746e-01 1.83971885e-01 3.91660652e-01\n",
      " 7.21049678e-02 2.70606713e-01 9.18494453e-01] <function chi2 at 0x7f473155c1e0>\n",
      "[83.64904607  1.97906382  0.14805501  0.34317694  0.09562863  0.53015588\n",
      "  0.61116267] <function chi2 at 0x7f473155c1e0>\n",
      "[8.30072759e+01 5.55200547e-01 1.46380566e-01 4.37091447e-01\n",
      " 3.50196490e-02 1.70854722e-01 9.49335944e-01] <function chi2 at 0x7f473155c1e0>\n",
      "[8.81470868e+01 1.95587998e+00 1.44759921e-01 3.69781533e-01\n",
      " 7.86329812e-02 4.70877941e-01 8.61104138e-01] <function chi2 at 0x7f473155c1e0>\n",
      "[8.90506624e+01 1.18303532e+00 2.44368168e-01 1.88385989e-01\n",
      " 2.73451101e-02 9.78281204e-01 8.11718779e-01] <function chi2 at 0x7f473155c1e0>\n",
      "[83.19115329  1.89706487  0.24689135  0.32776334  0.09194054  0.79136737\n",
      "  0.87648056] <function chi2 at 0x7f473155c1e0>\n",
      "[8.52147486e+01 1.45520897e+00 1.56643311e-01 3.87245606e-01\n",
      " 7.60565967e-02 3.92925138e-01 9.71355530e-01] <function chi2 at 0x7f473155c1e0>\n",
      "[8.84128545e+01 1.17223014e+00 5.28859548e-02 4.24968259e-01\n",
      " 6.45737633e-02 1.13280208e-01 9.33198330e-01] <function chi2 at 0x7f473155c1e0>\n",
      "[8.87299053e+01 8.22625494e-01 2.96296906e-01 1.16204706e-01\n",
      " 8.59007780e-03 6.98608114e-01 8.47458285e-01] <function chi2 at 0x7f473155c1e0>\n",
      "[8.68489791e+01 1.56459392e+00 1.04929831e-01 9.97561100e-02\n",
      " 1.59069419e-02 6.92495841e-01 7.69759935e-01] <function chi2 at 0x7f473155c1e0>\n",
      "[8.34523353e+01 7.09143469e-01 1.02853841e-01 4.21301504e-01\n",
      " 5.09537026e-02 9.70810696e-01 6.42267300e-01] <function chi2 at 0x7f473155c1e0>\n"
     ]
    }
   ],
   "source": [
    "import dynesty as dn\n",
    "\n",
    "def ptransform(u):\n",
    "    # params = [incl', 'q', 'esinw', 'ecosw', 'r1+r2', 'r2/r1', 'teff1', 'tratio', 'pblum', 'l3']\n",
    "    bounds = np.array([[80.,90.],[0.5, 2], [0.05, 0.3],[0.,0.5],[-0.1,0.1], [0.1,1.], [0.5,1.]])\n",
    "    \n",
    "    x = np.array(u)\n",
    "    \n",
    "    for i,bound in enumerate(bounds):\n",
    "        x[i] = (bound[1] - bound[0])*u[i] + bound[0]\n",
    "        \n",
    "    return x\n",
    "    \n",
    "\n",
    "ndim = 7\n",
    "\n",
    "# \"Dynamic\" nested sampling.\n",
    "dsampler = dn.DynamicNestedSampler(loglike, ptransform, ndim)\n",
    "dsampler.run_nested(maxiter=20000)"
   ]
  },
  {
   "cell_type": "code",
   "execution_count": null,
   "metadata": {},
   "outputs": [],
   "source": []
  }
 ],
 "metadata": {
  "kernelspec": {
   "display_name": "phoebe",
   "language": "python",
   "name": "phoebe"
  },
  "language_info": {
   "codemirror_mode": {
    "name": "ipython",
    "version": 3
   },
   "file_extension": ".py",
   "mimetype": "text/x-python",
   "name": "python",
   "nbconvert_exporter": "python",
   "pygments_lexer": "ipython3",
   "version": "3.7.4"
  }
 },
 "nbformat": 4,
 "nbformat_minor": 4
}
