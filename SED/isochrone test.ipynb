{
 "cells": [
  {
   "cell_type": "code",
   "execution_count": 6,
   "metadata": {},
   "outputs": [
    {
     "name": "stdout",
     "output_type": "stream",
     "text": [
      "Setting age to (<Quantity 6. Gyr>, <Quantity 4. Gyr>)\n"
     ]
    }
   ],
   "source": [
    "from sedkit import SED\n",
    "import astropy.units as u\n",
    "trap1 = SED()"
   ]
  },
  {
   "cell_type": "code",
   "execution_count": 7,
   "metadata": {},
   "outputs": [],
   "source": [
    "trap1.add_photometry('Johnson.V', 18.798, 0.082)\n",
    "trap1.add_photometry('Cousins.R', 16.466, 0.065)\n",
    "trap1.add_photometry('Cousins.I', 14.024, 0.115)"
   ]
  },
  {
   "cell_type": "code",
   "execution_count": 8,
   "metadata": {},
   "outputs": [
    {
     "name": "stdout",
     "output_type": "stream",
     "text": [
      "Setting radius to (<Quantity 0.123 solRad>, <Quantity 0.002 solRad>)\n",
      "Setting spectral_type to (68.0, 0.5, 'V', None, None).\n",
      "Setting age to (<Quantity 7.6 Gyr>, <Quantity 2.2 Gyr>)\n",
      "Setting radius to (<Quantity 0.121 solRad>, <Quantity 0.003 solRad>)\n"
     ]
    }
   ],
   "source": [
    "trap1.spectral_type = 'M8'\n",
    "trap1.age = 7.6*u.Gyr, 2.2*u.Gyr\n",
    "trap1.radius = 0.121*u.R_sun, 0.003*u.R_sun"
   ]
  },
  {
   "cell_type": "code",
   "execution_count": 12,
   "metadata": {},
   "outputs": [
    {
     "name": "stdout",
     "output_type": "stream",
     "text": [
      "\n",
      "Blackbody fit: 2069 K\n"
     ]
    }
   ],
   "source": [
    "from sedkit import BTSettl\n",
    "trap1.fit_blackbody()"
   ]
  },
  {
   "cell_type": "code",
   "execution_count": 13,
   "metadata": {},
   "outputs": [
    {
     "data": {
      "text/html": [
       "<i>Table length=20</i>\n",
       "<table id=\"table140582358750800\" class=\"table-striped table-bordered table-condensed\">\n",
       "<thead><tr><th>param</th><th>value</th><th>unc</th><th>units</th></tr></thead>\n",
       "<thead><tr><th>object</th><th>object</th><th>object</th><th>object</th></tr></thead>\n",
       "<tr><td>name</td><td>My Target</td><td>--</td><td>--</td></tr>\n",
       "<tr><td>ra</td><td>--</td><td>--</td><td>--</td></tr>\n",
       "<tr><td>dec</td><td>--</td><td>--</td><td>--</td></tr>\n",
       "<tr><td>age</td><td>7.6</td><td>2.2</td><td>Gyr</td></tr>\n",
       "<tr><td>membership</td><td>--</td><td>--</td><td>--</td></tr>\n",
       "<tr><td>distance</td><td>--</td><td>--</td><td>--</td></tr>\n",
       "<tr><td>parallax</td><td>--</td><td>--</td><td>--</td></tr>\n",
       "<tr><td>SpT</td><td>M8V</td><td>--</td><td>--</td></tr>\n",
       "<tr><td>spectral_type</td><td>68.0</td><td>0.5</td><td>--</td></tr>\n",
       "<tr><td>fbol</td><td>3540000000.0</td><td>207000000.0</td><td>erg / (cm2 s)</td></tr>\n",
       "<tr><td>mbol</td><td>-35.4</td><td>0.063</td><td>--</td></tr>\n",
       "<tr><td>Lbol</td><td>--</td><td>--</td><td>--</td></tr>\n",
       "<tr><td>Lbol_sun</td><td>--</td><td>--</td><td>--</td></tr>\n",
       "<tr><td>Mbol</td><td>--</td><td>--</td><td>--</td></tr>\n",
       "<tr><td>Teff</td><td>--</td><td>--</td><td>--</td></tr>\n",
       "<tr><td>Teff_evo</td><td>--</td><td>--</td><td>--</td></tr>\n",
       "<tr><td>Teff_bb</td><td>2069</td><td>--</td><td>--</td></tr>\n",
       "<tr><td>logg</td><td>--</td><td>--</td><td>--</td></tr>\n",
       "<tr><td>mass</td><td>--</td><td>--</td><td>--</td></tr>\n",
       "<tr><td>radius</td><td>0.121</td><td>0.003</td><td>solRad</td></tr>\n",
       "</table>"
      ],
      "text/plain": [
       "<Table length=20>\n",
       "    param        value         unc         units    \n",
       "    object       object       object       object   \n",
       "------------- ------------ ----------- -------------\n",
       "         name    My Target          --            --\n",
       "           ra           --          --            --\n",
       "          dec           --          --            --\n",
       "          age          7.6         2.2           Gyr\n",
       "   membership           --          --            --\n",
       "     distance           --          --            --\n",
       "     parallax           --          --            --\n",
       "          SpT          M8V          --            --\n",
       "spectral_type         68.0         0.5            --\n",
       "         fbol 3540000000.0 207000000.0 erg / (cm2 s)\n",
       "         mbol        -35.4       0.063            --\n",
       "         Lbol           --          --            --\n",
       "     Lbol_sun           --          --            --\n",
       "         Mbol           --          --            --\n",
       "         Teff           --          --            --\n",
       "     Teff_evo           --          --            --\n",
       "      Teff_bb         2069          --            --\n",
       "         logg           --          --            --\n",
       "         mass           --          --            --\n",
       "       radius        0.121       0.003        solRad"
      ]
     },
     "execution_count": 13,
     "metadata": {},
     "output_type": "execute_result"
    }
   ],
   "source": [
    "trap1.results"
   ]
  },
  {
   "cell_type": "code",
   "execution_count": 14,
   "metadata": {},
   "outputs": [],
   "source": [
    "\n",
    "\n",
    "# Plot the SED\n",
    "trap1.make_sed()\n",
    "fig = trap1.plot(integral=True, blackbody=False)\n",
    "\n"
   ]
  },
  {
   "cell_type": "code",
   "execution_count": null,
   "metadata": {},
   "outputs": [],
   "source": []
  }
 ],
 "metadata": {
  "kernelspec": {
   "display_name": "Python 3",
   "language": "python",
   "name": "python3"
  }
 },
 "nbformat": 4,
 "nbformat_minor": 4
}
