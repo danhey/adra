{
 "cells": [
  {
   "cell_type": "code",
   "execution_count": 2,
   "metadata": {},
   "outputs": [],
   "source": [
    "import speedyfit\n",
    "import pickle\n",
    "import matplotlib.pyplot as pl\n",
    "import os\n",
    "import numpy as np\n",
    "import pandas as pd\n",
    "\n",
    "\n",
    "import matplotlib.cm as cm\n",
    "import matplotlib.patches as patches\n",
    "import matplotlib.ticker as ticker\n",
    "\n",
    "from scipy.stats import gaussian_kde\n",
    "\n",
    "overleaf_path = '/Users/daniel/Dropbox (Sydney Uni)/Apps/Overleaf/adra/figs/'\n",
    "\n"
   ]
  },
  {
   "cell_type": "code",
   "execution_count": 3,
   "metadata": {},
   "outputs": [],
   "source": [
    "from speedyfit import speedyfit"
   ]
  },
  {
   "cell_type": "code",
   "execution_count": 4,
   "metadata": {},
   "outputs": [],
   "source": [
    "# os.system(\"speedyfit fit alf\\ Dra_setup_kurucz.yaml\")"
   ]
  },
  {
   "cell_type": "code",
   "execution_count": 5,
   "metadata": {},
   "outputs": [],
   "source": [
    "with open('res.pickle', 'rb') as handle:\n",
    "    setup, results, samples, constraints, gridnames, obs, obs_err, photbands = pickle.load(handle)"
   ]
  },
  {
   "cell_type": "code",
   "execution_count": 6,
   "metadata": {},
   "outputs": [
    {
     "data": {
      "text/plain": [
       "rec.array([(10735.29503121, 3.51965118, 4.70561621, 1.23058911e-03, 2.67040291, 79.04248284, 263.357879  , 8.13171262e-20, 543.08638073),\n",
       "           (10862.10329927, 3.63895599, 4.57204137, 1.30765563e-03, 3.31794288, 77.55737898, 260.49938675, 8.44611366e-20, 540.0158015 ),\n",
       "           (10826.45960766, 3.44394606, 4.55296554, 1.57052033e-03, 2.10003916, 77.05591848, 254.99453396, 8.55640172e-20, 541.7929699 ),\n",
       "           ...,\n",
       "           (10885.47705712, 3.81166942, 4.54773168, 5.40497840e-05, 4.88598013, 77.327914  , 259.93451248, 8.49631449e-20, 538.9345654 ),\n",
       "           (10742.08885175, 3.47918873, 4.4813833 , 5.25326046e-04, 2.20650806, 75.38462894, 239.47378374, 8.94000097e-20, 542.82985664),\n",
       "           (10790.21340996, 3.59514502, 4.66572677, 6.00357857e-04, 3.12374976, 78.75338312, 264.21434165, 8.19152442e-20, 538.07327069)],\n",
       "          dtype=[('teff', '<f8'), ('logg', '<f8'), ('rad', '<f8'), ('ebv', '<f8'), ('mass', '<f8'), ('d', '<f8'), ('L', '<f8'), ('scale', '<f8'), ('chi2', '<f8')])"
      ]
     },
     "execution_count": 6,
     "metadata": {},
     "output_type": "execute_result"
    }
   ],
   "source": [
    "samples"
   ]
  },
  {
   "cell_type": "code",
   "execution_count": 7,
   "metadata": {},
   "outputs": [
    {
     "name": "stdout",
     "output_type": "stream",
     "text": [
      " = 2.92_{-0.74}^{1.33}\n"
     ]
    }
   ],
   "source": [
    "# Print results:\n",
    "param = 'mass'\n",
    "samp = (np.percentile(samples[param], [16, 50, 84]))\n",
    "q = np.diff(samp)\n",
    "print(\" = {0:.2f}_{{-{1:.2f}}}^{{{2:.2f}}}\".format(samp[1], q[0], q[1]))"
   ]
  },
  {
   "cell_type": "code",
   "execution_count": null,
   "metadata": {},
   "outputs": [],
   "source": []
  },
  {
   "cell_type": "code",
   "execution_count": 8,
   "metadata": {},
   "outputs": [],
   "source": [
    "from speedyfit import model, filters, reddening"
   ]
  },
  {
   "cell_type": "code",
   "execution_count": 9,
   "metadata": {},
   "outputs": [],
   "source": [
    "# This function is taken from speedyfit, adapted to make consistent plots with the paper :)"
   ]
  },
  {
   "cell_type": "code",
   "execution_count": 10,
   "metadata": {},
   "outputs": [],
   "source": [
    "pl.style.use('science')"
   ]
  },
  {
   "cell_type": "code",
   "execution_count": 28,
   "metadata": {},
   "outputs": [],
   "source": [
    "msize = 4\n",
    "def plot_fit(obs, obs_err, photbands, pars={}, constraints={}, grids=[], gridnames=[], result='best', plot_components=True, plot_colors=False, plot_constraints=False):\n",
    "    fig, axes = pl.subplots(2,1, figsize=[3.333333333333333, 3.060113295832983], gridspec_kw={'height_ratios': [0.6, 0.4]})\n",
    "    pars = pars.copy()\n",
    "\n",
    "    # use model from 'best' results or 'pc' results\n",
    "    resi = 0 if result == 'best' else 1\n",
    "\n",
    "    colors = np.array([filters.is_color(p) for p in photbands])\n",
    "    psystems = np.array([p.split('.')[0] for p in photbands])\n",
    "    waves = np.array([filters.eff_wave(p) for p in photbands[~colors]])\n",
    "\n",
    "    #-- def system colors\n",
    "    all_systems = set(psystems)\n",
    "    colorcycle = cm.Set1(np.linspace(0, 1, len(all_systems)))\n",
    "    system_colors = {}\n",
    "    for p, c in zip(all_systems, colorcycle):\n",
    "        system_colors[p] = c\n",
    "\n",
    "    abs_xlim = (0.9 * np.min(waves), 1.1 * np.max(waves) )\n",
    "\n",
    "    if not len(list(pars.keys())) == 0:\n",
    "        ipars = pars.copy()\n",
    "        for key, value in list(pars.items()):\n",
    "            ipars[key] = [value[resi]]\n",
    "            pars[key] = value[resi]\n",
    "        _ = ipars.pop('d')\n",
    "        _ = pars.pop('d')\n",
    "\n",
    "        syn, Labs = model.get_itable(grid=grids, photbands=photbands, **ipars)\n",
    "        syn = syn[:,0]\n",
    "\n",
    "        scale = pars['scale']\n",
    "\n",
    "    # plot the fit of the absolute data\n",
    "    #====================================\n",
    "    ax1 = axes[0]\n",
    "    \n",
    "    markers = ['o', 'v', 's', 'X']\n",
    "    \n",
    "     #-- synthetic model\n",
    "    ebv = pars['ebv']\n",
    "    wave, flux = model.get_table(grid=gridnames, **pars)\n",
    "    flux = reddening.redden(flux, wave=wave, ebv=ebv, rtype='flux', law='fitzpatrick2004')\n",
    "    ax1.plot(wave, scale*flux, '-k')\n",
    "\n",
    "    wave, flux, error, band = [], [], [], []\n",
    "    for system, marker in zip(all_systems, markers):\n",
    "        s = np.where((psystems == system) & (~colors))\n",
    "        if len(obs[s]) == 0: continue\n",
    "\n",
    "        w = np.array([filters.eff_wave(p) for p in photbands[s]])\n",
    "        ax1.errorbar(w, obs[s], yerr=obs_err[s], ls='', marker=marker, markersize=msize,\n",
    "#                   color=system_colors[system], \n",
    "                     label=system)\n",
    "\n",
    "        wave.extend(w)\n",
    "        flux.extend(obs[s])\n",
    "        error.extend(obs_err[s])\n",
    "        band.extend([system for i in w])\n",
    "\n",
    "\n",
    "    ax1.set_xlim(abs_xlim)\n",
    "    ax1.set_ylim([0.5*np.min(obs[~colors]), 1.6*np.max(obs[~colors])])\n",
    "    ax1.legend(loc='best', fontsize=6,#prop={'size': 9}, \n",
    "      numpoints=1)\n",
    "    ax1.set_xscale(\"log\",)\n",
    "    ax1.set_yscale(\"log\",)\n",
    "    ax1.set_xticks([])\n",
    "#     ax1.tick_params(labelsize=8.)\n",
    "\n",
    "    ax1.set_ylabel('Absolute Flux')\n",
    "\n",
    "    #-- add band names to top of axis\n",
    "    ax2 = ax1.twiny()\n",
    "    ax2.set_xscale(\"log\", )\n",
    "    ax2.set_xlim(abs_xlim)\n",
    "    waves = np.array([filters.eff_wave(p) for p in photbands[~colors]])\n",
    "    bandnames = np.array([b.split('.')[-1] for b in photbands[~colors]])\n",
    "    ax2.set_xticks(waves)\n",
    "    ax2.set_xticklabels(bandnames, fontsize=7)\n",
    "    ax2.xaxis.tick_top()\n",
    "    pl.minorticks_off()\n",
    "#     ax2.tick_params(labelsize=8.)\n",
    "\n",
    "\n",
    "\n",
    "#     # plot O-C of the absolute measurements\n",
    "#     #====================================\\\n",
    "    ax = axes[1]\n",
    "\n",
    "    for system, marker in zip(all_systems, markers):\n",
    "        s = np.where((psystems == system) & (~colors))\n",
    "        if len(obs[s]) == 0: continue\n",
    "\n",
    "        w = np.array([filters.eff_wave(p) for p in photbands[s]])\n",
    "        y = ((obs - syn*scale) / obs)[s]\n",
    "        yerr = (obs_err / obs)[s]\n",
    "\n",
    "        y = 2.5*np.log10(syn[s]*scale / obs[s])\n",
    "        yerr = 2.5 / np.log(10.0) * obs_err[s] / obs[s]\n",
    "\n",
    "        ax.errorbar(w, -y , yerr=yerr, ls='', marker=marker, markersize=msize, \n",
    "#                     color=system_colors[system]\n",
    "                   )\n",
    "\n",
    "    # pl.figtext(0.96, 0.96, '$\\chi^2$ = {:0.2f}'.format(pars['chi2']), ha='right')\n",
    "\n",
    "    ax.axhline(y=0, color='k', ls='--')\n",
    "\n",
    "    ax.set_xlim(abs_xlim)\n",
    "    ax.set_xscale('log')\n",
    "\n",
    "    ax.set_ylabel('Residuals [mag]')\n",
    "    ax.set_xlabel('Wavelength [$\\AA$]')\n",
    "    \n",
    "    pl.subplots_adjust(hspace=0.05)"
   ]
  },
  {
   "cell_type": "code",
   "execution_count": 29,
   "metadata": {},
   "outputs": [
    {
     "name": "stderr",
     "output_type": "stream",
     "text": [
      "/Users/daniel/speedyfit/speedyfit/interpol.py:79: FutureWarning: Using a non-tuple sequence for multidimensional indexing is deprecated; use `arr[tuple(seq)]` instead of `arr[seq]`. In the future this will be interpreted as an array index, `arr[np.array(seq)]`, which will result either in an error or a different result.\n",
      "  pixelgrid[indices] = grid_data.T\n"
     ]
    },
    {
     "data": {
      "image/png": "[encoded data removed]",
      "text/plain": [
       "<Figure size 240x220.328 with 3 Axes>"
      ]
     },
     "metadata": {
      "image/png": {
       "height": 212,
       "width": 222
      },
      "needs_background": "light"
     },
     "output_type": "display_data"
    }
   ],
   "source": [
    "# res = setup[pindex].get('result', 'best')\n",
    "plot_fit(obs, obs_err, photbands, pars=results, constraints=constraints,\n",
    "                 grids = setup['grids'], gridnames=gridnames, )\n",
    "\n",
    "pl.savefig(overleaf_path + 'SED_fit.pdf', dpi=300)"
   ]
  },
  {
   "cell_type": "code",
   "execution_count": 116,
   "metadata": {},
   "outputs": [],
   "source": [
    "# def wavelength_to_rgb(wavelength, gamma=0.8):\n",
    "\n",
    "#     '''This converts a given wavelength of light to an \n",
    "#     approximate RGB color value. The wavelength must be given\n",
    "#     in nanometers in the range from 380 nm through 750 nm\n",
    "#     (789 THz through 400 THz).\n",
    "\n",
    "#     Based on code by Dan Bruton\n",
    "#     http://www.physics.sfasu.edu/astro/color/spectra.html\n",
    "#     '''\n",
    "\n",
    "#     wavelength = float(wavelength)\n",
    "#     if wavelength >= 380 and wavelength <= 440:\n",
    "#         attenuation = 0.3 + 0.7 * (wavelength - 380) / (440 - 380)\n",
    "#         R = ((-(wavelength - 440) / (440 - 380)) * attenuation) ** gamma\n",
    "#         G = 0.0\n",
    "#         B = (1.0 * attenuation) ** gamma\n",
    "#     elif wavelength >= 440 and wavelength <= 490:\n",
    "#         R = 0.0\n",
    "#         G = ((wavelength - 440) / (490 - 440)) ** gamma\n",
    "#         B = 1.0\n",
    "#     elif wavelength >= 490 and wavelength <= 510:\n",
    "#         R = 0.0\n",
    "#         G = 1.0\n",
    "#         B = (-(wavelength - 510) / (510 - 490)) ** gamma\n",
    "#     elif wavelength >= 510 and wavelength <= 580:\n",
    "#         R = ((wavelength - 510) / (580 - 510)) ** gamma\n",
    "#         G = 1.0\n",
    "#         B = 0.0\n",
    "#     elif wavelength >= 580 and wavelength <= 645:\n",
    "#         R = 1.0\n",
    "#         G = (-(wavelength - 645) / (645 - 580)) ** gamma\n",
    "#         B = 0.0\n",
    "#     elif wavelength >= 645 and wavelength <= 750:\n",
    "#         attenuation = 0.3 + 0.7 * (750 - wavelength) / (750 - 645)\n",
    "#         R = (1.0 * attenuation) ** gamma\n",
    "#         G = 0.0\n",
    "#         B = 0.0\n",
    "#     else:\n",
    "#         R = 0.0\n",
    "#         G = 0.0\n",
    "#         B = 0.0\n",
    "#     R *= 255\n",
    "#     G *= 255\n",
    "#     B *= 255\n",
    "#     return (int(R), int(G), int(B))\n"
   ]
  },
  {
   "cell_type": "markdown",
   "metadata": {},
   "source": [
    "## Make photometry table"
   ]
  },
  {
   "cell_type": "code",
   "execution_count": 30,
   "metadata": {},
   "outputs": [],
   "source": [
    "obs = pd.read_csv('observations.txt', delim_whitespace=True)"
   ]
  },
  {
   "cell_type": "code",
   "execution_count": 32,
   "metadata": {},
   "outputs": [
    {
     "name": "stdout",
     "output_type": "stream",
     "text": [
      "WISE & 33791.90 & 2.68E-13 & 2.691451E-14\n",
      "WISE & 46293.00 & 1.41E-13 & 6.773235E-15\n",
      "WISE & 123337.00 & 2.09E-15 & 2.693549E-17\n",
      "WISE & 222532.00 & 1.67E-16 & 2.925200E-18\n",
      "GAIA2 & 6710.93 & 9.50E-11 & 2.273937E-13\n",
      "GAIA2 & 5437.48 & 1.36E-10 & 1.747251E-12\n",
      "GAIA2 & 7979.59 & 4.54E-11 & 1.504805E-13\n",
      "STROMGREN & 5477.32 & 1.26E-10 & 2.314065E-12\n",
      "2MASS & 12412.10 & 1.29E-11 & 3.637680E-12\n",
      "2MASS & 16497.10 & 4.03E-12 & 8.318663E-13\n",
      "2MASS & 21909.20 & 1.50E-12 & 3.754546E-13\n"
     ]
    }
   ],
   "source": [
    "for index, row in obs.iterrows():\n",
    "    print(f\"{row['band']} & {row['wave']:.2f} & {row['flux']:.2E} & {row['error']:2E}\")"
   ]
  },
  {
   "cell_type": "code",
   "execution_count": null,
   "metadata": {},
   "outputs": [],
   "source": []
  }
 ],
 "metadata": {
  "kernelspec": {
   "display_name": "Python [conda env:speedyfit]",
   "language": "python",
   "name": "conda-env-speedyfit-py"
  },
  "language_info": {
   "codemirror_mode": {
    "name": "ipython",
    "version": 3
   },
   "file_extension": ".py",
   "mimetype": "text/x-python",
   "name": "python",
   "nbconvert_exporter": "python",
   "pygments_lexer": "ipython3",
   "version": "3.7.9"
  }
 },
 "nbformat": 4,
 "nbformat_minor": 4
}
