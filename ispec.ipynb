{
 "cells": [
  {
   "cell_type": "code",
   "execution_count": 46,
   "metadata": {},
   "outputs": [],
   "source": [
    "import numpy as np\n",
    "import matplotlib.pyplot as plt\n",
    "import astropy.io.fits as pf\n",
    "import numpy as np\n",
    "import matplotlib.pyplot as plt\n",
    "import glob\n",
    "import tqdm\n",
    "\n",
    "from scipy.ndimage.filters import gaussian_filter\n",
    "from scipy import interpolate\n",
    "from scipy.interpolate import UnivariateSpline\n",
    "from scipy.signal import savgol_filter\n",
    "\n",
    "import warnings\n",
    "import os\n",
    "import sys\n",
    "warnings.filterwarnings(\"ignore\")\n"
   ]
  },
  {
   "cell_type": "code",
   "execution_count": 213,
   "metadata": {},
   "outputs": [],
   "source": [
    "\n",
    "import logging\n",
    "LOG_LEVEL = \"warning\"\n",
    "logger = logging.getLogger() # root logger, common for all\n",
    "logger.setLevel(logging.getLevelName(LOG_LEVEL.upper()))"
   ]
  },
  {
   "cell_type": "code",
   "execution_count": 47,
   "metadata": {},
   "outputs": [],
   "source": [
    "#--- iSpec directory -------------------------------------------------------------\n",
    "# ispec_dir = os.path.dirname(os.path.realpath(__file__)) + \"/\"\n",
    "ispec_dir = '/home/daniel/iSpec/'\n",
    "sys.path.insert(0, os.path.abspath(ispec_dir))\n",
    "import ispec"
   ]
  },
  {
   "cell_type": "code",
   "execution_count": 48,
   "metadata": {},
   "outputs": [],
   "source": [
    "# plt.style.use('notebook')\n",
    "spectra_dir = 'data/Spectra/SONG/'"
   ]
  },
  {
   "cell_type": "code",
   "execution_count": 49,
   "metadata": {},
   "outputs": [],
   "source": [
    "from scipy import interpolate\n",
    "from scipy.interpolate import UnivariateSpline\n",
    "\n",
    "def smooth(x, y, factor=0.1):\n",
    "    df = x[1] - x[0]\n",
    "    return gaussian_filter(y, factor / df)\n",
    "\n",
    "def flatten(x, y, return_trend=False):\n",
    "    m = y < np.percentile(y, 95)\n",
    "    p = np.polyfit(x[m], y[m], 3)\n",
    "    if return_trend:\n",
    "        return y / np.polyval(p, x), np.polyval(p, x)\n",
    "    return y / np.polyval(p, x)\n",
    "\n",
    "def interpolate_spectrum(x, y, template_wav):\n",
    "    f1  = interpolate.interp1d(x, y, kind = 'linear')\n",
    "    return f1(template_wav)\n",
    "    \n",
    "def estimate_background(x, y, log_width=0.01):\n",
    "    count = np.zeros(len(x), dtype=int)\n",
    "    bkg = np.zeros_like(x)\n",
    "    x0 = np.log10(x[0])\n",
    "    while x0 < np.log10(x[-1]):\n",
    "        m = np.abs(np.log10(x) - x0) < log_width\n",
    "        bkg[m] += np.median(y[m])\n",
    "        count[m] += 1\n",
    "        x0 += 0.5 * log_width\n",
    "    return bkg / count\n",
    "\n",
    "def fit_continuum(x, y, ivars, order=6, nsigma=[0.3,3.0], maxniter=50):\n",
    "    \"\"\"Fit the continuum using sigma clipping\n",
    "    Args:\n",
    "        x: The wavelengths\n",
    "        y: The log-fluxes\n",
    "        order: The polynomial order to use\n",
    "        nsigma: The sigma clipping threshold: tuple (low, high)\n",
    "        maxniter: The maximum number of iterations to do\n",
    "    Returns:\n",
    "        The value of the continuum at the wavelengths in x\n",
    "    \"\"\"\n",
    "    A = np.vander(x - np.nanmean(x), order+1)\n",
    "    m = np.ones(len(x), dtype=bool)\n",
    "    for i in range(maxniter):\n",
    "        m[ivars == 0] = 0  # mask out the bad pixels\n",
    "        w = np.linalg.solve(np.dot(A[m].T, A[m]), np.dot(A[m].T, y[m]))\n",
    "        mu = np.dot(A, w)\n",
    "        resid = y - mu\n",
    "        sigma = np.sqrt(np.nanmedian(resid**2))\n",
    "        #m_new = np.abs(resid) < nsigma*sigma\n",
    "        m_new = (resid > -nsigma[0]*sigma) & (resid < nsigma[1]*sigma)\n",
    "        if m.sum() == m_new.sum():\n",
    "            m = m_new\n",
    "            break\n",
    "        m = m_new\n",
    "    return mu"
   ]
  },
  {
   "cell_type": "code",
   "execution_count": 321,
   "metadata": {},
   "outputs": [],
   "source": [
    "def get_spectrum(spec):\n",
    "    spec_data = pf.getdata(spec)\n",
    "    wav = spec_data[3,:,:]\n",
    "    flux = spec_data[0,:,:]# / spec_data[2,:,:]\n",
    "    \n",
    "    all_wav, all_flux = [], []\n",
    "    for w, f in zip(wav[8:], flux[8:]):\n",
    "        ivars = np.ones_like(w)\n",
    "        mu = fit_continuum(w, f, ivars)\n",
    "        f /= mu\n",
    "        all_wav.extend(w)\n",
    "        all_flux.extend(f)\n",
    "\n",
    "    all_wav, all_flux = np.array(all_wav), np.array(all_flux)\n",
    "    all_flux /= np.median(all_flux)\n",
    "    all_flux = smooth(all_wav, all_flux, factor=0.05)\n",
    "    return all_wav, all_flux"
   ]
  },
  {
   "cell_type": "code",
   "execution_count": 322,
   "metadata": {},
   "outputs": [],
   "source": [
    "def rv_ccf_mask(spectrum, diagnose=False):\n",
    "#     mask_file = ispec_dir + \"input/linelists/CCF/HARPS_SOPHIE.F0.360_698nm/mask.lst\"\n",
    "    mask_file = ispec_dir + \"input/linelists/CCF/HARPS_SOPHIE.A0.350_1095nm/mask.lst\"\n",
    "    ccf_mask = ispec.read_cross_correlation_mask(mask_file)\n",
    "\n",
    "    models, ccf = ispec.cross_correlate_with_mask(spectrum, ccf_mask, \\\n",
    "                            lower_velocity_limit=-200, upper_velocity_limit=200, \\\n",
    "                            velocity_step=1.0, mask_depth=0.1, mask_size=2.0, \n",
    "                            fourier=False, only_one_peak=True)\n",
    "    \n",
    "    if diagnose:\n",
    "        plt.plot(ccf['x'], ccf['y'], lw=1, color='b', linestyle='-', marker='', markersize=1, markeredgewidth=0, markerfacecolor='b', zorder=1)\n",
    "        plt.fill_between(ccf['x'], ccf['y']+ccf['err'], ccf['y']-ccf['err'], color='#CCCCCC')\n",
    "        for model in models:\n",
    "            plt.plot(ccf['x'], model(ccf['x']), lw=1, color='r', linestyle='-', marker='', markersize=1, markeredgewidth=0, markerfacecolor='r', zorder=2)\n",
    "        plt.show()\n",
    "#     if len(models) > 1:\n",
    "#         return models[0].mu(), models[1].mu()#, models[1].mu(), models[1].emu()\n",
    "    return models[0].mu(), models[0].emu()"
   ]
  },
  {
   "cell_type": "code",
   "execution_count": 323,
   "metadata": {},
   "outputs": [
    {
     "name": "stderr",
     "output_type": "stream",
     "text": [
      "100%|██████████| 59/59 [00:38<00:00,  1.54it/s]\n"
     ]
    }
   ],
   "source": [
    "all_spectra_files = np.array(sorted(glob.glob(spectra_dir + '*.fits')))\n",
    "epochs = np.arange(len(all_spectra_files))\n",
    "m = ~((epochs == 60) | (epochs == 15))\n",
    "all_spectra_files = all_spectra_files[m]\n",
    "all_rv, all_rv_err = [], []\n",
    "times = []\n",
    "\n",
    "for spec in tqdm.tqdm(all_spectra_files[:]):\n",
    "\n",
    "    wav, flux = get_spectrum(spec)\n",
    "    meta = pf.getheader( spec )\n",
    "    times.append(meta['BJD-MID'])\n",
    "    \n",
    "    m = wav < 5500\n",
    "    wav, flux = wav[m], flux[m]\n",
    "    flux /= np.median(flux)\n",
    "    np.savetxt(f\"cleaned/{spec.split('/')[-1].split('.')[0]}.txt\", list(zip(wav / 10, flux, np.ones_like(flux) * 0.01)))\n",
    "    star_spectrum = ispec.read_spectrum(f\"cleaned/{spec.split('/')[-1].split('.')[0]}.txt\")\n",
    "    rv, rv_err = rv_ccf_mask(star_spectrum, diagnose=False)\n",
    "    all_rv.append(rv)\n",
    "    all_rv_err.append(rv_err)"
   ]
  },
  {
   "cell_type": "code",
   "execution_count": 327,
   "metadata": {},
   "outputs": [
    {
     "data": {
      "text/plain": [
       "[<matplotlib.lines.Line2D at 0x7feb1d145390>]"
      ]
     },
     "execution_count": 327,
     "metadata": {},
     "output_type": "execute_result"
    },
    {
     "data": {
      "image/png": "[encoded data removed]",
      "text/plain": [
       "<Figure size 432x288 with 1 Axes>"
      ]
     },
     "metadata": {
      "needs_background": "light"
     },
     "output_type": "display_data"
    }
   ],
   "source": [
    "plt.plot(wav, flux)"
   ]
  },
  {
   "cell_type": "code",
   "execution_count": 328,
   "metadata": {},
   "outputs": [],
   "source": [
    "RV = np.array(all_rv)\n",
    "import astropy.units as u\n",
    "bvcs = []\n",
    "for spec in all_spectra_files:\n",
    "    meta = pf.getheader( spec )\n",
    "    bvcs.append(meta['BVC'])\n",
    "    \n",
    "RV = (RV * u.km / u.s) + (bvcs * u.km / u.s) + (RV * u.km / u.s) * (bvcs * u.km / u.s) / (299792.458 * u.km / u.s)"
   ]
  },
  {
   "cell_type": "code",
   "execution_count": 329,
   "metadata": {},
   "outputs": [
    {
     "data": {
      "text/plain": [
       "Text(0, 0.5, 'RV [km/s]')"
      ]
     },
     "execution_count": 329,
     "metadata": {},
     "output_type": "execute_result"
    },
    {
     "data": {
      "image/png": "[encoded data removed]",
      "text/plain": [
       "<Figure size 432x288 with 1 Axes>"
      ]
     },
     "metadata": {
      "needs_background": "light"
     },
     "output_type": "display_data"
    }
   ],
   "source": [
    "bischoff_x, bischoff_y = np.loadtxt('data/RV/bischoff_rv_fixed_time.txt', usecols=(0,1)).T\n",
    "\n",
    "porb = 51.4213\n",
    "plt.errorbar((np.array(times) + 2400000) % porb / porb, RV.value, yerr=all_rv_err, fmt='.k')\n",
    "\n",
    "plt.plot((bischoff_x + 2457000) % porb / porb, bischoff_y, '.')\n",
    "\n",
    "\n",
    "plt.xlabel('Orbital phase')\n",
    "plt.ylabel('RV [km/s]')"
   ]
  },
  {
   "cell_type": "code",
   "execution_count": 320,
   "metadata": {},
   "outputs": [
    {
     "data": {
      "text/plain": [
       "[4.741618775463347,\n",
       " 2.9285113344201754,\n",
       " 3.5673841482673248,\n",
       " 1.3443306277877973,\n",
       " 1.4630312179271912,\n",
       " 5.312624298839507,\n",
       " 4.758530420546309,\n",
       " 1.830078522661417,\n",
       " 2.900791335106048,\n",
       " 1.5440929529995262,\n",
       " 1.7197471797341466,\n",
       " 1.268085832822536,\n",
       " 1.3927407040123154,\n",
       " 1.6989471688082305,\n",
       " 1.944985883197478,\n",
       " 1.727002398254292,\n",
       " 2.653018063901262,\n",
       " 3.091927954208199,\n",
       " 2.233137500833106,\n",
       " 1.9788121040746878,\n",
       " 4.0936965986784095,\n",
       " 1.6494886159043964,\n",
       " 2.1576006806879997,\n",
       " 2.9001190934912775,\n",
       " 4.917598302007479,\n",
       " 3.793091365501112,\n",
       " 8.713434294994189,\n",
       " 3.4007322411607355,\n",
       " 6.963859978500292,\n",
       " 1.5427675364742903,\n",
       " 2.5705923933630874,\n",
       " 2.2259192627948874,\n",
       " 2.7821184125704206,\n",
       " 3.4450215246550995,\n",
       " 2.0482170885542867,\n",
       " 1.6313592096067575,\n",
       " 4.017832959369325,\n",
       " 2.189930614423794,\n",
       " 3.7721515955400484,\n",
       " 1.1443771278618635,\n",
       " 5.548169968069921,\n",
       " 1.0825134594913282,\n",
       " 2.7390223666248628,\n",
       " 1.870835667209466,\n",
       " 2.127517822832523,\n",
       " 1.916686898667652,\n",
       " 1.7303278377842306,\n",
       " 3.2279258939224347,\n",
       " 1.7942685495166875,\n",
       " 2.890565489735353,\n",
       " 6.151730051696133,\n",
       " 1.1393847350650568,\n",
       " 3.4109898086016432,\n",
       " 2.471340975001984,\n",
       " 2.214944806926822,\n",
       " 3.945895528077777,\n",
       " 3.9637973428259845,\n",
       " 3.3326414061988885,\n",
       " 3.6032848931765384]"
      ]
     },
     "execution_count": 320,
     "metadata": {},
     "output_type": "execute_result"
    }
   ],
   "source": [
    "all_rv_err"
   ]
  },
  {
   "cell_type": "code",
   "execution_count": 110,
   "metadata": {},
   "outputs": [],
   "source": [
    "def determine_radial_velocity_with_mask(star_spectrum):\n",
    "    mu_cas_spectrum = star_spectrum\n",
    "    #--- Radial Velocity determination with linelist mask --------------------------\n",
    "    # - Read atomic data\n",
    "#     mask_file = ispec_dir + \"input/linelists/CCF/Narval.Sun.370_1048nm/mask.lst\"\n",
    "    #mask_file = ispec_dir + \"input/linelists/CCF/Atlas.Arcturus.372_926nm/mask.lst\"\"\n",
    "    #mask_file = ispec_dir + \"input/linelists/CCF/Atlas.Sun.372_926nm/mask.lst\"\n",
    "    #mask_file = ispec_dir + \"input/linelists/CCF/HARPS_SOPHIE.A0.350_1095nm/mask.lst\"\n",
    "    mask_file = ispec_dir + \"input/linelists/CCF/HARPS_SOPHIE.F0.360_698nm/mask.lst\"\n",
    "    #mask_file = ispec_dir + \"input/linelists/CCF/HARPS_SOPHIE.G2.375_679nm/mask.lst\"\n",
    "    #mask_file = ispec_dir + \"input/linelists/CCF/HARPS_SOPHIE.K0.378_679nm/mask.lst\"\n",
    "    #mask_file = ispec_dir + \"input/linelists/CCF/HARPS_SOPHIE.K5.378_680nm/mask.lst\"\n",
    "    #mask_file = ispec_dir + \"input/linelists/CCF/HARPS_SOPHIE.M5.400_687nm/mask.lst\"\n",
    "    #mask_file = ispec_dir + \"input/linelists/CCF/Synthetic.Sun.350_1100nm/mask.lst\"\n",
    "    #mask_file = ispec_dir + \"input/linelists/CCF/VALD.Sun.300_1100nm/mask.lst\"\n",
    "    ccf_mask = ispec.read_cross_correlation_mask(mask_file)\n",
    "\n",
    "    models, ccf = ispec.cross_correlate_with_mask(mu_cas_spectrum, ccf_mask, \\\n",
    "                            lower_velocity_limit=-200, upper_velocity_limit=200, \\\n",
    "                            velocity_step=1.0, mask_depth=0.01, \\\n",
    "                            fourier=False)\n",
    "\n",
    "    # Number of models represent the number of components\n",
    "    components = len(models)\n",
    "    # First component:\n",
    "    rv = np.round(models[0].mu(), 2) # km/s\n",
    "    rv_err = np.round(models[0].emu(), 2) # km/s\n",
    "    return rv, rv_err"
   ]
  },
  {
   "cell_type": "code",
   "execution_count": 152,
   "metadata": {},
   "outputs": [],
   "source": [
    "def clean_telluric_regions(star_spectrum):\n",
    "    # - Telluric\n",
    "    telluric_linelist_file = ispec_dir + \"/input/linelists/CCF/Synth.Tellurics.500_1100nm/mask.lst\"\n",
    "    telluric_linelist = ispec.read_telluric_linelist(telluric_linelist_file, minimum_depth=0.0)\n",
    "\n",
    "    models, ccf = ispec.cross_correlate_with_mask(star_spectrum, telluric_linelist, \\\n",
    "                            lower_velocity_limit=-100, upper_velocity_limit=100, \\\n",
    "                            velocity_step=0.5, mask_depth=0.01, \\\n",
    "                            fourier = False,\n",
    "                            only_one_peak = True)\n",
    "\n",
    "    bv = np.round(models[0].mu(), 2) # km/s\n",
    "    bv_err = np.round(models[0].emu(), 2) # km/s\n",
    "\n",
    "\n",
    "    telluric_linelist_file = ispec_dir + \"/input/linelists/CCF/Synth.Tellurics.500_1100nm/mask.lst\"\n",
    "    telluric_linelist = ispec.read_telluric_linelist(telluric_linelist_file, minimum_depth=0.0)\n",
    "\n",
    "    # - Filter regions that may be affected by telluric lines\n",
    "    #bv = 0.0\n",
    "    min_vel = -30.0\n",
    "    max_vel = +30.0\n",
    "    # Only the 25% of the deepest ones:\n",
    "    dfilter = telluric_linelist['depth'] > np.percentile(telluric_linelist['depth'], 75)\n",
    "    tfilter = ispec.create_filter_for_regions_affected_by_tellurics(star_spectrum['waveobs'], \\\n",
    "                                telluric_linelist[dfilter], min_velocity=-bv+min_vel, \\\n",
    "                                max_velocity=-bv+max_vel)\n",
    "    clean_star_spectrum = star_spectrum[~tfilter]\n",
    "    return clean_star_spectrum"
   ]
  },
  {
   "cell_type": "code",
   "execution_count": 96,
   "metadata": {},
   "outputs": [
    {
     "name": "stderr",
     "output_type": "stream",
     "text": [
      "[2020-10-08 02:45:17,892] [INFO] [lines:__cross_correlation_function_uniform_in_velocity:1994]: 0.00%\n",
      "[2020-10-08 02:45:17,961] [INFO] [lines:__cross_correlation_function_uniform_in_velocity:1994]: 10.22%\n",
      "[2020-10-08 02:45:18,008] [INFO] [lines:__cross_correlation_function_uniform_in_velocity:1994]: 20.45%\n",
      "[2020-10-08 02:45:18,090] [INFO] [lines:__cross_correlation_function_uniform_in_velocity:1994]: 30.67%\n",
      "[2020-10-08 02:45:18,144] [INFO] [lines:__cross_correlation_function_uniform_in_velocity:1994]: 40.90%\n",
      "[2020-10-08 02:45:18,244] [INFO] [lines:__cross_correlation_function_uniform_in_velocity:1994]: 60.10%\n",
      "[2020-10-08 02:45:18,288] [INFO] [lines:__cross_correlation_function_uniform_in_velocity:1994]: 70.32%\n",
      "[2020-10-08 02:45:18,381] [INFO] [lines:__cross_correlation_function_uniform_in_velocity:1994]: 80.55%\n",
      "[2020-10-08 02:45:18,449] [INFO] [lines:__cross_correlation_function_uniform_in_velocity:1994]: 90.77%\n",
      "[2020-10-08 02:45:18,514] [INFO] [lines:__model_velocity_profile:2455]: Peak found at -0.50 km/s (fitted at -0.46 +/- 0.02 km/s)\n",
      "[2020-10-08 02:45:19,229] [INFO] [lines:create_filter_for_regions_affected_by_tellurics:2032]: 0.00%\n",
      "[2020-10-08 02:45:19,231] [INFO] [lines:create_filter_for_regions_affected_by_tellurics:2032]: 10.06%\n",
      "[2020-10-08 02:45:19,233] [INFO] [lines:create_filter_for_regions_affected_by_tellurics:2032]: 20.12%\n",
      "[2020-10-08 02:45:19,234] [INFO] [lines:create_filter_for_regions_affected_by_tellurics:2032]: 30.18%\n",
      "[2020-10-08 02:45:19,235] [INFO] [lines:create_filter_for_regions_affected_by_tellurics:2032]: 40.24%\n",
      "[2020-10-08 02:45:19,236] [INFO] [lines:create_filter_for_regions_affected_by_tellurics:2032]: 50.30%\n",
      "[2020-10-08 02:45:19,237] [INFO] [lines:create_filter_for_regions_affected_by_tellurics:2032]: 60.36%\n",
      "[2020-10-08 02:45:19,238] [INFO] [lines:create_filter_for_regions_affected_by_tellurics:2032]: 70.42%\n",
      "[2020-10-08 02:45:19,239] [INFO] [lines:create_filter_for_regions_affected_by_tellurics:2032]: 80.48%\n",
      "[2020-10-08 02:45:19,240] [INFO] [lines:create_filter_for_regions_affected_by_tellurics:2032]: 90.55%\n"
     ]
    }
   ],
   "source": []
  },
  {
   "cell_type": "code",
   "execution_count": 99,
   "metadata": {},
   "outputs": [
    {
     "data": {
      "image/png": "[encoded data removed]",
      "text/plain": [
       "<Figure size 432x288 with 1 Axes>"
      ]
     },
     "metadata": {
      "needs_background": "light"
     },
     "output_type": "display_data"
    }
   ],
   "source": [
    "ispec.plotting.plot_spectra([cleaned])"
   ]
  },
  {
   "cell_type": "code",
   "execution_count": 53,
   "metadata": {},
   "outputs": [],
   "source": [
    "def determine_radial_velocity_with_template():\n",
    "    mu_cas_spectrum = ispec.read_spectrum(ispec_dir + \"/input/spectra/examples/NARVAL_muCas.txt.gz\")\n",
    "    #--- Radial Velocity determination with template -------------------------------\n",
    "    logging.info(\"Radial velocity determination with template...\")\n",
    "    # - Read synthetic template\n",
    "    #template = ispec.read_spectrum(ispec_dir + \"/input/spectra/templates/Atlas.Arcturus.372_926nm/template.txt.gz\")\n",
    "    #template = ispec.read_spectrum(ispec_dir + \"/input/spectra/templates/Atlas.Sun.372_926nm/template.txt.gz\")\n",
    "    template = ispec.read_spectrum(ispec_dir + \"/input/spectra/templates/NARVAL.Sun.370_1048nm/template.txt.gz\")\n",
    "    #template = ispec.read_spectrum(ispec_dir + \"/input/spectra/templates/Synth.Sun.300_1100nm/template.txt.gz\")\n",
    "\n",
    "    models, ccf = ispec.cross_correlate_with_template(mu_cas_spectrum, template, \\\n",
    "                            lower_velocity_limit=-200, upper_velocity_limit=200, \\\n",
    "                            velocity_step=1.0, fourier=False)\n",
    "\n",
    "    # Number of models represent the number of components\n",
    "    components = len(models)\n",
    "    # First component:\n",
    "    rv = np.round(models[0].mu(), 2) # km/s\n",
    "    rv_err = np.round(models[0].emu(), 2) # km/s"
   ]
  },
  {
   "cell_type": "code",
   "execution_count": null,
   "metadata": {},
   "outputs": [],
   "source": []
  }
 ],
 "metadata": {
  "kernelspec": {
   "display_name": "Python [conda env:ispec]",
   "language": "python",
   "name": "conda-env-ispec-py"
  },
  "language_info": {
   "codemirror_mode": {
    "name": "ipython",
    "version": 3
   },
   "file_extension": ".py",
   "mimetype": "text/x-python",
   "name": "python",
   "nbconvert_exporter": "python",
   "pygments_lexer": "ipython3",
   "version": "3.7.9"
  }
 },
 "nbformat": 4,
 "nbformat_minor": 4
}
